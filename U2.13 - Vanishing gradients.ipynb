{
 "cells": [
  {
   "cell_type": "markdown",
   "metadata": {},
   "source": [
    "<a href=\"https://colab.research.google.com/github/acubillosunal/UBM-DEEP-LEARNING-1/blob/main/U2.12%20-%20Vanishing%20gradients.ipynb\" target=\"_parent\"><img src=\"https://colab.research.google.com/assets/colab-badge.svg\" alt=\"Open In Colab\"/></a>\n",
    "\n",
    "\n",
    "**Recuerda que una vez abierto, Da clic en \"Copiar en Drive\", de lo contrario no podras almancenar tu progreso**\n",
    "\n",
    "Nota: no olvide ir ejecutando las celdas de código de arriba hacia abajo para que no tenga errores de importación de librerías o por falta de definición de variables."
   ]
  },
  {
   "cell_type": "code",
   "execution_count": 1,
   "metadata": {
    "colab": {
     "base_uri": "https://localhost:8080/",
     "height": 34
    },
    "colab_type": "code",
    "id": "zZ-OGg2XUH9c",
    "outputId": "944bf74e-e51d-4070-b3aa-007d4344a35a"
   },
   "outputs": [],
   "source": [
    "!wget --no-cache -O init.py -q https://raw.githubusercontent.com/acubillosunal/UBM-DEEP-LEARNING-1/main/init.py\n",
    "import init; init.init(force_download=False); "
   ]
  },
  {
   "cell_type": "code",
   "execution_count": 2,
   "metadata": {
    "colab": {
     "base_uri": "https://localhost:8080/",
     "height": 68
    },
    "colab_type": "code",
    "id": "o3bDeERPUH9j",
    "outputId": "6d53e961-a2fe-40e8-c3e5-f334365554f5"
   },
   "outputs": [
    {
     "name": "stderr",
     "output_type": "stream",
     "text": [
      "2024-03-22 11:28:45.421766: I external/local_tsl/tsl/cuda/cudart_stub.cc:31] Could not find cuda drivers on your machine, GPU will not be used.\n",
      "2024-03-22 11:28:45.471533: E external/local_xla/xla/stream_executor/cuda/cuda_dnn.cc:9261] Unable to register cuDNN factory: Attempting to register factory for plugin cuDNN when one has already been registered\n",
      "2024-03-22 11:28:45.471561: E external/local_xla/xla/stream_executor/cuda/cuda_fft.cc:607] Unable to register cuFFT factory: Attempting to register factory for plugin cuFFT when one has already been registered\n",
      "2024-03-22 11:28:45.473113: E external/local_xla/xla/stream_executor/cuda/cuda_blas.cc:1515] Unable to register cuBLAS factory: Attempting to register factory for plugin cuBLAS when one has already been registered\n",
      "2024-03-22 11:28:45.480927: I external/local_tsl/tsl/cuda/cudart_stub.cc:31] Could not find cuda drivers on your machine, GPU will not be used.\n",
      "2024-03-22 11:28:45.481641: I tensorflow/core/platform/cpu_feature_guard.cc:182] This TensorFlow binary is optimized to use available CPU instructions in performance-critical operations.\n",
      "To enable the following instructions: AVX2 FMA, in other operations, rebuild TensorFlow with the appropriate compiler flags.\n",
      "2024-03-22 11:28:46.825479: W tensorflow/compiler/tf2tensorrt/utils/py_utils.cc:38] TF-TRT Warning: Could not find TensorRT\n"
     ]
    },
    {
     "data": {
      "text/plain": [
       "'2.15.0'"
      ]
     },
     "execution_count": 2,
     "metadata": {},
     "output_type": "execute_result"
    }
   ],
   "source": [
    "import sys\n",
    "if 'google.colab' in sys.modules:\n",
    "    print (\"setting tensorflow version in colab\")\n",
    "    %tensorflow_version 2.x\n",
    "import tensorflow as tf\n",
    "tf.__version__"
   ]
  },
  {
   "cell_type": "markdown",
   "metadata": {
    "colab_type": "text",
    "id": "Pt5L7QJDUH9n"
   },
   "source": [
    "forward/back propagation calculations https://medium.com/@14prakash/back-propagation-is-very-simple-who-made-it-complicated-97b794c97e5c\n",
    "\n",
    "Vanishing gradient example: https://github.com/harinisuresh/VanishingGradient/blob/master/Vanishing%20Gradient%20Example.ipynb\n",
    "\n",
    "https://adventuresinmachinelearning.com/vanishing-gradient-problem-tensorflow/"
   ]
  },
  {
   "cell_type": "code",
   "execution_count": 3,
   "metadata": {
    "colab": {
     "base_uri": "https://localhost:8080/",
     "height": 17
    },
    "colab_type": "code",
    "id": "tncUg_QRUH9o",
    "outputId": "bfdff993-f6f7-4978-bccd-1c5a811a035d"
   },
   "outputs": [
    {
     "name": "stderr",
     "output_type": "stream",
     "text": [
      "/tmp/ipykernel_69211/3777615979.py:1: DeprecationWarning: Importing display from IPython.core.display is deprecated since IPython 7.14, please import from IPython display\n",
      "  from IPython.core.display import display, HTML\n"
     ]
    },
    {
     "data": {
      "text/html": [
       "<style>.container { width:100% !important; }</style>"
      ],
      "text/plain": [
       "<IPython.core.display.HTML object>"
      ]
     },
     "metadata": {},
     "output_type": "display_data"
    }
   ],
   "source": [
    "from IPython.core.display import display, HTML\n",
    "display(HTML(\"<style>.container { width:100% !important; }</style>\"))"
   ]
  },
  {
   "cell_type": "code",
   "execution_count": 4,
   "metadata": {
    "colab": {},
    "colab_type": "code",
    "id": "bjHbQiWkUH9r"
   },
   "outputs": [],
   "source": [
    "import numpy as np\n",
    "import matplotlib.pyplot as plt\n",
    "import pandas as pd\n",
    "from tensorflow import keras\n",
    "\n",
    "%matplotlib inline"
   ]
  },
  {
   "cell_type": "markdown",
   "metadata": {
    "colab_type": "text",
    "id": "5urbhDe8UH9u"
   },
   "source": [
    "# Visualizing and understanding vanishing gradients\n",
    "\n",
    "Make sure you understand well the backpropagation algorithm. You may perform by hand the calculations as illustrated [here](https://medium.com/@14prakash/back-propagation-is-very-simple-who-made-it-complicated-97b794c97e5c) to consolidate your understanding.\n",
    "\n",
    "We will be using three activation functions. Observe under which what values each function's gradient becomes negligible (very near zero)\n",
    "\n"
   ]
  },
  {
   "cell_type": "markdown",
   "metadata": {
    "colab_type": "text",
    "id": "iz7s0-NaUH9v"
   },
   "source": [
    "### sigmoid\n",
    "\n",
    "$$\\text{sigm(z)} = \\frac{1}{1-e^{-z}}$$\n",
    "\n",
    "$$\\frac{\\partial \\;\\text{sigm}}{\\partial \\; z} = \\text{sigm}(z)(1-\\text{sigm}(z))$$\n"
   ]
  },
  {
   "cell_type": "code",
   "execution_count": 7,
   "metadata": {
    "colab": {
     "base_uri": "https://localhost:8080/",
     "height": 282
    },
    "colab_type": "code",
    "id": "GwCP_spVUH9w",
    "outputId": "d257ce5a-2fc5-469d-952a-4d2a1f8caaa1"
   },
   "outputs": [
    {
     "data": {
      "text/plain": [
       "<matplotlib.legend.Legend at 0x7f2211289250>"
      ]
     },
     "execution_count": 7,
     "metadata": {},
     "output_type": "execute_result"
    },
    {
     "data": {
      "image/png": "[encoded data removed]",
      "text/plain": [
       "<Figure size 640x480 with 1 Axes>"
      ]
     },
     "metadata": {},
     "output_type": "display_data"
    }
   ],
   "source": [
    "z = np.linspace(-10,10,100)\n",
    "\n",
    "sigm = lambda z: 1/(1+np.exp(-z))\n",
    "\n",
    "dsigm = lambda z: sigm(z)*(1-sigm(z))\n",
    "\n",
    "plt.plot(z, sigm(z), lw=5, label=\"sigm\")\n",
    "plt.plot(z, dsigm(z), lw=5, label=\"grad sigm\")\n",
    "plt.grid()\n",
    "plt.axvline(0, color=\"black\");\n",
    "plt.axhline(0, color=\"black\");\n",
    "plt.legend()"
   ]
  },
  {
   "cell_type": "markdown",
   "metadata": {
    "colab_type": "text",
    "id": "HyemSqtRUH9z"
   },
   "source": [
    "### tanh\n",
    "\n",
    "$$\\text{tanh(z)} = \\frac{e^z - e^{-z}}{e^z-e^{-z}}$$\n",
    "\n",
    "$$\\frac{\\partial \\;\\text{tanh}}{\\partial \\; z} = 1-\\text{tanh}(z)^2$$\n"
   ]
  },
  {
   "cell_type": "code",
   "execution_count": 8,
   "metadata": {
    "colab": {
     "base_uri": "https://localhost:8080/",
     "height": 282
    },
    "colab_type": "code",
    "id": "g-VIwHGJUH90",
    "outputId": "a3ae37a6-0503-4533-c298-58175f8ede30"
   },
   "outputs": [
    {
     "data": {
      "text/plain": [
       "<matplotlib.legend.Legend at 0x7f22107f0190>"
      ]
     },
     "execution_count": 8,
     "metadata": {},
     "output_type": "execute_result"
    },
    {
     "data": {
      "image/png": "[encoded data removed]",
      "text/plain": [
       "<Figure size 640x480 with 1 Axes>"
      ]
     },
     "metadata": {},
     "output_type": "display_data"
    }
   ],
   "source": [
    "z = np.linspace(-10,10,100)\n",
    "\n",
    "tanh = lambda z: (np.exp(z)-np.exp(-z))/(np.exp(z)+np.exp(-z))\n",
    "\n",
    "dtanh = lambda z: 1 - tanh(z)**2\n",
    "\n",
    "plt.plot(z, tanh(z), lw=5, label=\"tanh\")\n",
    "plt.plot(z, dtanh(z), lw=5, label=\"grad tanh\")\n",
    "plt.grid()\n",
    "plt.axvline(0, color=\"black\");\n",
    "plt.axhline(0, color=\"black\");\n",
    "plt.legend()"
   ]
  },
  {
   "cell_type": "markdown",
   "metadata": {
    "colab_type": "text",
    "id": "e1xSL7SfUH93"
   },
   "source": [
    "### ReLU (Rectified Linear Unit)\n",
    "\n",
    "$$\\text{relu}(z) = \\text{z if }z<0\\;;\\;0\\text{ otherwise}$$\n",
    "\n",
    "$$\\frac{\\partial \\;\\text{relu}}{\\partial \\; z} = \\text{1 if }z<0\\;;\\;0\\text{ otherwise}$$\n"
   ]
  },
  {
   "cell_type": "code",
   "execution_count": 9,
   "metadata": {
    "colab": {
     "base_uri": "https://localhost:8080/",
     "height": 282
    },
    "colab_type": "code",
    "id": "an0FW5PnUH94",
    "outputId": "a183b642-cf4f-4e14-a781-925e3cb6338a"
   },
   "outputs": [
    {
     "data": {
      "text/plain": [
       "<matplotlib.legend.Legend at 0x7f2210881250>"
      ]
     },
     "execution_count": 9,
     "metadata": {},
     "output_type": "execute_result"
    },
    {
     "data": {
      "image/png": "[encoded data removed]",
      "text/plain": [
       "<Figure size 640x480 with 1 Axes>"
      ]
     },
     "metadata": {},
     "output_type": "display_data"
    }
   ],
   "source": [
    "z = np.linspace(-2,2,100)\n",
    "\n",
    "relu = np.vectorize(lambda z: z if z>0 else 0.)\n",
    "\n",
    "drelu = np.vectorize(lambda z: 1 if z>0 else 0.)\n",
    "\n",
    "plt.plot(z, relu(z), lw=5, label=\"relu\")\n",
    "plt.plot(z, drelu(z), lw=5, label=\"grad relu\")\n",
    "plt.grid()\n",
    "plt.axvline(0, color=\"black\");\n",
    "plt.axhline(0, color=\"black\");\n",
    "plt.legend()"
   ]
  },
  {
   "cell_type": "markdown",
   "metadata": {
    "colab_type": "text",
    "id": "UJ7TZCzyUH97"
   },
   "source": [
    "### Leaky ReLU (Rectified Linear Unit)\n",
    "\n",
    "$$\\text{relu}(z) = \\text{z if }z<0\\;;\\;kz\\text{ otherwise with }k<<1$$\n",
    "\n",
    "$$\\frac{\\partial \\;\\text{relu}}{\\partial \\; z} = \\text{1 if }z<0\\;;\\;k\\text{ otherwise}$$\n"
   ]
  },
  {
   "cell_type": "code",
   "execution_count": 10,
   "metadata": {
    "colab": {
     "base_uri": "https://localhost:8080/",
     "height": 282
    },
    "colab_type": "code",
    "id": "BoJSTwSuUH97",
    "outputId": "a486f342-a8cc-46e0-daeb-991d02516e90"
   },
   "outputs": [
    {
     "data": {
      "text/plain": [
       "<matplotlib.legend.Legend at 0x7f2210719250>"
      ]
     },
     "execution_count": 10,
     "metadata": {},
     "output_type": "execute_result"
    },
    {
     "data": {
      "image/png": "[encoded data removed]",
      "text/plain": [
       "<Figure size 640x480 with 1 Axes>"
      ]
     },
     "metadata": {},
     "output_type": "display_data"
    }
   ],
   "source": [
    "z = np.linspace(-2,2,100)\n",
    "\n",
    "relu = np.vectorize(lambda z: z if z>0 else .1*z)\n",
    "\n",
    "drelu = np.vectorize(lambda z: 1 if z>0 else .1)\n",
    "\n",
    "plt.plot(z, relu(z), lw=5, label=\"relu\")\n",
    "plt.plot(z, drelu(z), lw=5, label=\"grad relu\")\n",
    "plt.grid(); \n",
    "plt.axvline(0, color=\"black\");\n",
    "plt.axhline(0, color=\"black\");\n",
    "plt.legend()"
   ]
  },
  {
   "cell_type": "markdown",
   "metadata": {
    "colab_type": "text",
    "id": "cO5EcNXSUH-B"
   },
   "source": [
    "### load sample MNIST data as customary"
   ]
  },
  {
   "cell_type": "code",
   "execution_count": 5,
   "metadata": {
    "colab": {
     "base_uri": "https://localhost:8080/",
     "height": 34
    },
    "colab_type": "code",
    "id": "SW5RDD8qUH-C",
    "outputId": "eaa3d9ec-5f41-495b-88a7-a9eb8caeba41"
   },
   "outputs": [
    {
     "name": "stdout",
     "output_type": "stream",
     "text": [
      "dimension de las imagenes y las clases (1500, 784) (1500,)\n"
     ]
    }
   ],
   "source": [
    "mnist = pd.read_csv(\"local/data/mnist1.5k.csv.gz\", compression=\"gzip\", header=None).values\n",
    "X=mnist[:,1:785]/255.\n",
    "y=mnist[:,0]\n",
    "print(\"dimension de las imagenes y las clases\", X.shape, y.shape)"
   ]
  },
  {
   "cell_type": "code",
   "execution_count": 6,
   "metadata": {
    "colab": {
     "base_uri": "https://localhost:8080/",
     "height": 34
    },
    "colab_type": "code",
    "id": "2iXzcb0jUH-E",
    "outputId": "8a16a944-05df-4549-82b2-95d0de7805d9"
   },
   "outputs": [
    {
     "name": "stdout",
     "output_type": "stream",
     "text": [
      "(1200, 784) (1200, 10)\n"
     ]
    }
   ],
   "source": [
    "from sklearn.model_selection import train_test_split\n",
    "X_train, X_test, y_train, y_test = train_test_split(X, y, test_size=.2)\n",
    "X_train = X_train\n",
    "X_test  = X_test\n",
    "y_train_oh = np.eye(10)[y_train]\n",
    "y_test_oh  = np.eye(10)[y_test]\n",
    "print(X_train.shape, y_train_oh.shape)"
   ]
  },
  {
   "cell_type": "code",
   "execution_count": 7,
   "metadata": {
    "colab": {},
    "colab_type": "code",
    "id": "HmoxgIGkUH-G"
   },
   "outputs": [],
   "source": [
    "from tensorflow.keras import Sequential, Model\n",
    "from tensorflow.keras.layers import Dense, Dropout, Flatten, concatenate, Input\n",
    "from tensorflow.keras.backend import clear_session\n",
    "from tensorflow import keras"
   ]
  },
  {
   "cell_type": "markdown",
   "metadata": {
    "colab_type": "text",
    "id": "xTl-dXJ9UH-J"
   },
   "source": [
    "### A basic multi layered dense model\n",
    "\n",
    "observe that the function allows us to parametrize the number of hidden layers and their activation function\n"
   ]
  },
  {
   "cell_type": "code",
   "execution_count": 8,
   "metadata": {
    "colab": {},
    "colab_type": "code",
    "id": "y5wi-OteUH-K"
   },
   "outputs": [],
   "source": [
    "def get_model(input_dim=784, output_dim=10, num_hidden_layers=6, hidden_size=10, activation=\"relu\"):\n",
    "\n",
    "    clear_session()\n",
    "    model = Sequential()\n",
    "    model.add(Dense(hidden_size, activation=activation, input_dim=input_dim, name=\"Layer_%02d_Input\"%(0)))\n",
    "    \n",
    "    for i in range(num_hidden_layers):\n",
    "        model.add(Dense(hidden_size, activation=activation, name=\"Layer_%02d_Hidden\"%(i+1)))\n",
    "   \n",
    "    model.add(Dense(output_dim, activation=\"softmax\", name=\"Layer_%02d_Output\"%(num_hidden_layers+1)))\n",
    "        \n",
    "    model.compile(optimizer='adam', loss='categorical_crossentropy', metrics=['accuracy'])\n",
    "    model.reset_states()\n",
    "    return model"
   ]
  },
  {
   "cell_type": "markdown",
   "metadata": {
    "colab_type": "text",
    "id": "CdjyzRhkUH-N"
   },
   "source": [
    "### SIGMOID activation"
   ]
  },
  {
   "cell_type": "code",
   "execution_count": 9,
   "metadata": {
    "colab": {
     "base_uri": "https://localhost:8080/",
     "height": 1000
    },
    "colab_type": "code",
    "id": "IRua6cxAUH-N",
    "outputId": "6af87062-3947-46a5-c78f-c50627fb7c1e",
    "scrolled": true
   },
   "outputs": [
    {
     "name": "stderr",
     "output_type": "stream",
     "text": [
      "2024-03-22 11:35:08.811593: I external/local_xla/xla/stream_executor/cuda/cuda_executor.cc:901] successful NUMA node read from SysFS had negative value (-1), but there must be at least one NUMA node, so returning NUMA node zero. See more at https://github.com/torvalds/linux/blob/v6.0/Documentation/ABI/testing/sysfs-bus-pci#L344-L355\n",
      "2024-03-22 11:35:08.812541: W tensorflow/core/common_runtime/gpu/gpu_device.cc:2256] Cannot dlopen some GPU libraries. Please make sure the missing libraries mentioned above are installed properly if you would like to use GPU. Follow the guide at https://www.tensorflow.org/install/gpu for how to download and setup the required libraries for your platform.\n",
      "Skipping registering GPU devices...\n"
     ]
    },
    {
     "name": "stdout",
     "output_type": "stream",
     "text": [
      "Epoch 1/30\n",
      "38/38 [==============================] - 3s 22ms/step - loss: 2.3775 - accuracy: 0.1192 - val_loss: 2.3527 - val_accuracy: 0.1433\n",
      "Epoch 2/30\n",
      "38/38 [==============================] - 0s 13ms/step - loss: 2.3365 - accuracy: 0.1192 - val_loss: 2.3249 - val_accuracy: 0.1433\n",
      "Epoch 3/30\n",
      "38/38 [==============================] - 1s 14ms/step - loss: 2.3177 - accuracy: 0.1192 - val_loss: 2.3094 - val_accuracy: 0.1433\n",
      "Epoch 4/30\n",
      "38/38 [==============================] - 0s 13ms/step - loss: 2.3089 - accuracy: 0.1192 - val_loss: 2.3028 - val_accuracy: 0.1433\n",
      "Epoch 5/30\n",
      "38/38 [==============================] - 1s 13ms/step - loss: 2.3047 - accuracy: 0.1192 - val_loss: 2.2976 - val_accuracy: 0.1433\n",
      "Epoch 6/30\n",
      "38/38 [==============================] - 0s 12ms/step - loss: 2.3021 - accuracy: 0.1192 - val_loss: 2.2954 - val_accuracy: 0.1433\n",
      "Epoch 7/30\n",
      "38/38 [==============================] - 1s 13ms/step - loss: 2.3012 - accuracy: 0.1192 - val_loss: 2.2942 - val_accuracy: 0.1433\n",
      "Epoch 8/30\n",
      "38/38 [==============================] - 1s 14ms/step - loss: 2.3007 - accuracy: 0.1192 - val_loss: 2.2939 - val_accuracy: 0.1433\n",
      "Epoch 9/30\n",
      "38/38 [==============================] - 1s 14ms/step - loss: 2.3006 - accuracy: 0.1192 - val_loss: 2.2932 - val_accuracy: 0.1433\n",
      "Epoch 10/30\n",
      "38/38 [==============================] - 0s 13ms/step - loss: 2.3009 - accuracy: 0.1192 - val_loss: 2.2941 - val_accuracy: 0.1433\n",
      "Epoch 11/30\n",
      "38/38 [==============================] - 0s 12ms/step - loss: 2.3007 - accuracy: 0.1192 - val_loss: 2.2938 - val_accuracy: 0.1433\n",
      "Epoch 12/30\n",
      "38/38 [==============================] - 0s 13ms/step - loss: 2.3004 - accuracy: 0.1192 - val_loss: 2.2936 - val_accuracy: 0.1433\n",
      "Epoch 13/30\n",
      "38/38 [==============================] - 0s 13ms/step - loss: 2.3005 - accuracy: 0.1192 - val_loss: 2.2934 - val_accuracy: 0.1433\n",
      "Epoch 14/30\n",
      "38/38 [==============================] - 0s 12ms/step - loss: 2.3010 - accuracy: 0.1192 - val_loss: 2.2947 - val_accuracy: 0.1433\n",
      "Epoch 15/30\n",
      "38/38 [==============================] - 0s 12ms/step - loss: 2.3016 - accuracy: 0.1192 - val_loss: 2.2942 - val_accuracy: 0.1433\n",
      "Epoch 16/30\n",
      "38/38 [==============================] - 0s 13ms/step - loss: 2.3009 - accuracy: 0.1192 - val_loss: 2.2943 - val_accuracy: 0.1433\n",
      "Epoch 17/30\n",
      "38/38 [==============================] - 0s 11ms/step - loss: 2.3006 - accuracy: 0.1192 - val_loss: 2.2938 - val_accuracy: 0.1433\n",
      "Epoch 18/30\n",
      "38/38 [==============================] - 0s 10ms/step - loss: 2.3004 - accuracy: 0.1192 - val_loss: 2.2932 - val_accuracy: 0.1433\n",
      "Epoch 19/30\n",
      "38/38 [==============================] - 0s 12ms/step - loss: 2.3009 - accuracy: 0.1192 - val_loss: 2.2934 - val_accuracy: 0.1433\n",
      "Epoch 20/30\n",
      "38/38 [==============================] - 0s 12ms/step - loss: 2.3005 - accuracy: 0.1192 - val_loss: 2.2926 - val_accuracy: 0.1433\n",
      "Epoch 21/30\n",
      "38/38 [==============================] - 0s 11ms/step - loss: 2.3010 - accuracy: 0.1192 - val_loss: 2.2932 - val_accuracy: 0.1433\n",
      "Epoch 22/30\n",
      "38/38 [==============================] - 0s 11ms/step - loss: 2.3006 - accuracy: 0.1192 - val_loss: 2.2941 - val_accuracy: 0.1433\n",
      "Epoch 23/30\n",
      "38/38 [==============================] - 0s 12ms/step - loss: 2.3007 - accuracy: 0.1192 - val_loss: 2.2948 - val_accuracy: 0.1433\n",
      "Epoch 24/30\n",
      "38/38 [==============================] - 0s 12ms/step - loss: 2.3010 - accuracy: 0.1192 - val_loss: 2.2923 - val_accuracy: 0.1433\n",
      "Epoch 25/30\n",
      "38/38 [==============================] - 0s 12ms/step - loss: 2.3010 - accuracy: 0.1192 - val_loss: 2.2947 - val_accuracy: 0.1433\n",
      "Epoch 26/30\n",
      "38/38 [==============================] - 0s 12ms/step - loss: 2.3008 - accuracy: 0.1192 - val_loss: 2.2932 - val_accuracy: 0.1433\n",
      "Epoch 27/30\n",
      "38/38 [==============================] - 0s 10ms/step - loss: 2.3009 - accuracy: 0.1192 - val_loss: 2.2947 - val_accuracy: 0.1433\n",
      "Epoch 28/30\n",
      "38/38 [==============================] - 0s 11ms/step - loss: 2.3006 - accuracy: 0.1192 - val_loss: 2.2930 - val_accuracy: 0.1433\n",
      "Epoch 29/30\n",
      "38/38 [==============================] - 0s 11ms/step - loss: 2.3006 - accuracy: 0.1192 - val_loss: 2.2932 - val_accuracy: 0.1433\n",
      "Epoch 30/30\n",
      "38/38 [==============================] - 0s 13ms/step - loss: 2.3005 - accuracy: 0.1192 - val_loss: 2.2933 - val_accuracy: 0.1433\n"
     ]
    },
    {
     "data": {
      "text/plain": [
       "<keras.src.callbacks.History at 0x7f384fb67510>"
      ]
     },
     "execution_count": 9,
     "metadata": {},
     "output_type": "execute_result"
    }
   ],
   "source": [
    "model = get_model(num_hidden_layers=10, activation=\"sigmoid\")\n",
    "!rm -rf log/sigmoid\n",
    "tb_callback = keras.callbacks.TensorBoard(log_dir='./log/sigmoid', histogram_freq=1,  write_graph=True, write_images=True)\n",
    "model.fit(X_train, y_train_oh, epochs=30, batch_size=32, validation_data=(X_test, y_test_oh), callbacks=[tb_callback])"
   ]
  },
  {
   "cell_type": "markdown",
   "metadata": {
    "colab_type": "text",
    "id": "qbfRphpAUH-Q"
   },
   "source": [
    "### RELU activation"
   ]
  },
  {
   "cell_type": "code",
   "execution_count": 10,
   "metadata": {
    "colab": {
     "base_uri": "https://localhost:8080/",
     "height": 1000
    },
    "colab_type": "code",
    "id": "yHNZjjBSUH-R",
    "outputId": "a569f002-af25-460f-d0de-3897e8b83c8d",
    "scrolled": true
   },
   "outputs": [
    {
     "name": "stdout",
     "output_type": "stream",
     "text": [
      "Epoch 1/30\n",
      "38/38 [==============================] - 3s 21ms/step - loss: 2.2969 - accuracy: 0.1033 - val_loss: 2.2764 - val_accuracy: 0.1033\n",
      "Epoch 2/30\n",
      "38/38 [==============================] - 0s 13ms/step - loss: 2.2385 - accuracy: 0.1217 - val_loss: 2.1841 - val_accuracy: 0.1333\n",
      "Epoch 3/30\n",
      "38/38 [==============================] - 1s 17ms/step - loss: 2.1145 - accuracy: 0.1842 - val_loss: 2.0705 - val_accuracy: 0.1767\n",
      "Epoch 4/30\n",
      "38/38 [==============================] - 0s 13ms/step - loss: 1.9945 - accuracy: 0.2050 - val_loss: 2.0278 - val_accuracy: 0.1400\n",
      "Epoch 5/30\n",
      "38/38 [==============================] - 0s 12ms/step - loss: 1.8852 - accuracy: 0.2192 - val_loss: 1.9590 - val_accuracy: 0.1700\n",
      "Epoch 6/30\n",
      "38/38 [==============================] - 0s 12ms/step - loss: 1.7676 - accuracy: 0.2342 - val_loss: 1.9523 - val_accuracy: 0.2033\n",
      "Epoch 7/30\n",
      "38/38 [==============================] - 0s 12ms/step - loss: 1.6899 - accuracy: 0.2642 - val_loss: 1.9055 - val_accuracy: 0.2600\n",
      "Epoch 8/30\n",
      "38/38 [==============================] - 0s 13ms/step - loss: 1.6192 - accuracy: 0.2892 - val_loss: 1.8987 - val_accuracy: 0.2933\n",
      "Epoch 9/30\n",
      "38/38 [==============================] - 0s 12ms/step - loss: 1.5790 - accuracy: 0.3133 - val_loss: 1.9007 - val_accuracy: 0.2967\n",
      "Epoch 10/30\n",
      "38/38 [==============================] - 0s 13ms/step - loss: 1.5599 - accuracy: 0.3342 - val_loss: 1.8268 - val_accuracy: 0.2600\n",
      "Epoch 11/30\n",
      "38/38 [==============================] - 0s 12ms/step - loss: 1.5079 - accuracy: 0.3375 - val_loss: 1.9012 - val_accuracy: 0.3267\n",
      "Epoch 12/30\n",
      "38/38 [==============================] - 0s 12ms/step - loss: 1.4593 - accuracy: 0.3783 - val_loss: 1.8208 - val_accuracy: 0.3733\n",
      "Epoch 13/30\n",
      "38/38 [==============================] - 0s 12ms/step - loss: 1.3977 - accuracy: 0.4317 - val_loss: 1.9522 - val_accuracy: 0.3967\n",
      "Epoch 14/30\n",
      "38/38 [==============================] - 0s 13ms/step - loss: 1.2929 - accuracy: 0.4942 - val_loss: 1.8547 - val_accuracy: 0.5167\n",
      "Epoch 15/30\n",
      "38/38 [==============================] - 0s 12ms/step - loss: 1.1768 - accuracy: 0.5483 - val_loss: 1.7613 - val_accuracy: 0.5133\n",
      "Epoch 16/30\n",
      "38/38 [==============================] - 1s 14ms/step - loss: 1.0540 - accuracy: 0.5767 - val_loss: 1.7921 - val_accuracy: 0.5567\n",
      "Epoch 17/30\n",
      "38/38 [==============================] - 0s 12ms/step - loss: 0.9739 - accuracy: 0.6233 - val_loss: 1.7351 - val_accuracy: 0.6000\n",
      "Epoch 18/30\n",
      "38/38 [==============================] - 0s 12ms/step - loss: 0.9098 - accuracy: 0.6200 - val_loss: 1.8193 - val_accuracy: 0.5900\n",
      "Epoch 19/30\n",
      "38/38 [==============================] - 0s 11ms/step - loss: 0.8475 - accuracy: 0.6375 - val_loss: 1.7749 - val_accuracy: 0.6100\n",
      "Epoch 20/30\n",
      "38/38 [==============================] - 0s 11ms/step - loss: 0.8029 - accuracy: 0.6558 - val_loss: 1.8111 - val_accuracy: 0.6333\n",
      "Epoch 21/30\n",
      "38/38 [==============================] - 0s 12ms/step - loss: 0.8080 - accuracy: 0.6450 - val_loss: 1.8298 - val_accuracy: 0.6067\n",
      "Epoch 22/30\n",
      "38/38 [==============================] - 1s 14ms/step - loss: 0.7289 - accuracy: 0.6808 - val_loss: 1.9974 - val_accuracy: 0.6133\n",
      "Epoch 23/30\n",
      "38/38 [==============================] - 0s 13ms/step - loss: 0.7108 - accuracy: 0.6842 - val_loss: 2.0199 - val_accuracy: 0.6233\n",
      "Epoch 24/30\n",
      "38/38 [==============================] - 0s 12ms/step - loss: 0.6826 - accuracy: 0.6942 - val_loss: 2.1929 - val_accuracy: 0.6533\n",
      "Epoch 25/30\n",
      "38/38 [==============================] - 0s 12ms/step - loss: 0.6652 - accuracy: 0.7008 - val_loss: 2.0657 - val_accuracy: 0.6333\n",
      "Epoch 26/30\n",
      "38/38 [==============================] - 0s 13ms/step - loss: 0.6708 - accuracy: 0.6983 - val_loss: 2.1034 - val_accuracy: 0.6367\n",
      "Epoch 27/30\n",
      "38/38 [==============================] - 0s 13ms/step - loss: 0.6432 - accuracy: 0.7058 - val_loss: 2.0662 - val_accuracy: 0.6300\n",
      "Epoch 28/30\n",
      "38/38 [==============================] - 0s 12ms/step - loss: 0.6374 - accuracy: 0.6942 - val_loss: 2.2524 - val_accuracy: 0.6200\n",
      "Epoch 29/30\n",
      "38/38 [==============================] - 0s 11ms/step - loss: 0.6253 - accuracy: 0.7017 - val_loss: 2.1851 - val_accuracy: 0.6367\n",
      "Epoch 30/30\n",
      "38/38 [==============================] - 0s 12ms/step - loss: 0.6391 - accuracy: 0.6975 - val_loss: 2.4791 - val_accuracy: 0.6267\n"
     ]
    },
    {
     "data": {
      "text/plain": [
       "<keras.src.callbacks.History at 0x7f381846c110>"
      ]
     },
     "execution_count": 10,
     "metadata": {},
     "output_type": "execute_result"
    }
   ],
   "source": [
    "model = get_model(num_hidden_layers=10, activation=\"relu\")\n",
    "!rm -rf log/relu\n",
    "tb_callback = keras.callbacks.TensorBoard(log_dir='./log/relu', histogram_freq=1,  write_graph=True, write_images=True)\n",
    "model.fit(X_train, y_train_oh, epochs=30, batch_size=32, validation_data=(X_test, y_test_oh), callbacks=[tb_callback])"
   ]
  },
  {
   "cell_type": "markdown",
   "metadata": {
    "colab_type": "text",
    "id": "7TYgHSlJUH-T"
   },
   "source": [
    "### Leaky RELU activation"
   ]
  },
  {
   "cell_type": "code",
   "execution_count": 11,
   "metadata": {
    "colab": {
     "base_uri": "https://localhost:8080/",
     "height": 1000
    },
    "colab_type": "code",
    "id": "xKV9L6RBUH-U",
    "outputId": "a2ecec17-905c-4800-a468-89f45973d7dc",
    "scrolled": true
   },
   "outputs": [
    {
     "name": "stdout",
     "output_type": "stream",
     "text": [
      "Epoch 1/30\n",
      "38/38 [==============================] - 3s 20ms/step - loss: 2.2954 - accuracy: 0.1350 - val_loss: 2.2714 - val_accuracy: 0.2300\n",
      "Epoch 2/30\n",
      "38/38 [==============================] - 0s 12ms/step - loss: 2.1473 - accuracy: 0.2142 - val_loss: 2.0472 - val_accuracy: 0.1833\n",
      "Epoch 3/30\n",
      "38/38 [==============================] - 0s 13ms/step - loss: 1.9497 - accuracy: 0.1958 - val_loss: 1.8997 - val_accuracy: 0.2000\n",
      "Epoch 4/30\n",
      "38/38 [==============================] - 0s 13ms/step - loss: 1.8743 - accuracy: 0.2042 - val_loss: 1.8226 - val_accuracy: 0.2367\n",
      "Epoch 5/30\n",
      "38/38 [==============================] - 0s 13ms/step - loss: 1.7887 - accuracy: 0.2133 - val_loss: 1.7740 - val_accuracy: 0.2367\n",
      "Epoch 6/30\n",
      "38/38 [==============================] - 0s 12ms/step - loss: 1.7322 - accuracy: 0.2317 - val_loss: 1.7622 - val_accuracy: 0.2667\n",
      "Epoch 7/30\n",
      "38/38 [==============================] - 0s 13ms/step - loss: 1.6749 - accuracy: 0.2600 - val_loss: 1.6645 - val_accuracy: 0.3167\n",
      "Epoch 8/30\n",
      "38/38 [==============================] - 0s 13ms/step - loss: 1.6045 - accuracy: 0.3067 - val_loss: 1.6221 - val_accuracy: 0.3400\n",
      "Epoch 9/30\n",
      "38/38 [==============================] - 0s 13ms/step - loss: 1.5283 - accuracy: 0.3758 - val_loss: 1.5658 - val_accuracy: 0.3867\n",
      "Epoch 10/30\n",
      "38/38 [==============================] - 1s 14ms/step - loss: 1.4204 - accuracy: 0.4142 - val_loss: 1.4752 - val_accuracy: 0.4267\n",
      "Epoch 11/30\n",
      "38/38 [==============================] - 0s 13ms/step - loss: 1.3293 - accuracy: 0.4442 - val_loss: 1.4694 - val_accuracy: 0.4733\n",
      "Epoch 12/30\n",
      "38/38 [==============================] - 0s 13ms/step - loss: 1.2479 - accuracy: 0.4850 - val_loss: 1.3615 - val_accuracy: 0.4833\n",
      "Epoch 13/30\n",
      "38/38 [==============================] - 0s 13ms/step - loss: 1.1928 - accuracy: 0.4967 - val_loss: 1.3393 - val_accuracy: 0.5100\n",
      "Epoch 14/30\n",
      "38/38 [==============================] - 0s 13ms/step - loss: 1.1151 - accuracy: 0.5258 - val_loss: 1.3329 - val_accuracy: 0.5033\n",
      "Epoch 15/30\n",
      "38/38 [==============================] - 0s 13ms/step - loss: 1.0669 - accuracy: 0.5417 - val_loss: 1.3242 - val_accuracy: 0.5767\n",
      "Epoch 16/30\n",
      "38/38 [==============================] - 0s 12ms/step - loss: 0.9888 - accuracy: 0.5933 - val_loss: 1.4501 - val_accuracy: 0.5833\n",
      "Epoch 17/30\n",
      "38/38 [==============================] - 0s 12ms/step - loss: 0.9227 - accuracy: 0.6267 - val_loss: 1.3807 - val_accuracy: 0.5967\n",
      "Epoch 18/30\n",
      "38/38 [==============================] - 0s 13ms/step - loss: 0.8772 - accuracy: 0.6483 - val_loss: 1.5102 - val_accuracy: 0.5900\n",
      "Epoch 19/30\n",
      "38/38 [==============================] - 1s 13ms/step - loss: 0.8232 - accuracy: 0.6725 - val_loss: 1.5430 - val_accuracy: 0.6167\n",
      "Epoch 20/30\n",
      "38/38 [==============================] - 0s 13ms/step - loss: 0.7598 - accuracy: 0.6975 - val_loss: 1.4464 - val_accuracy: 0.6700\n",
      "Epoch 21/30\n",
      "38/38 [==============================] - 0s 12ms/step - loss: 0.7045 - accuracy: 0.7175 - val_loss: 1.5127 - val_accuracy: 0.6300\n",
      "Epoch 22/30\n",
      "38/38 [==============================] - 1s 14ms/step - loss: 0.6586 - accuracy: 0.7325 - val_loss: 1.5827 - val_accuracy: 0.6700\n",
      "Epoch 23/30\n",
      "38/38 [==============================] - 0s 12ms/step - loss: 0.6010 - accuracy: 0.7642 - val_loss: 1.6206 - val_accuracy: 0.6467\n",
      "Epoch 24/30\n",
      "38/38 [==============================] - 0s 12ms/step - loss: 0.5513 - accuracy: 0.7833 - val_loss: 1.7355 - val_accuracy: 0.7133\n",
      "Epoch 25/30\n",
      "38/38 [==============================] - 0s 12ms/step - loss: 0.5413 - accuracy: 0.7842 - val_loss: 1.7401 - val_accuracy: 0.7167\n",
      "Epoch 26/30\n",
      "38/38 [==============================] - 0s 12ms/step - loss: 0.5237 - accuracy: 0.7792 - val_loss: 1.7429 - val_accuracy: 0.6800\n",
      "Epoch 27/30\n",
      "38/38 [==============================] - 0s 13ms/step - loss: 0.5081 - accuracy: 0.7842 - val_loss: 1.5842 - val_accuracy: 0.7333\n",
      "Epoch 28/30\n",
      "38/38 [==============================] - 0s 12ms/step - loss: 0.4782 - accuracy: 0.8283 - val_loss: 1.7381 - val_accuracy: 0.7200\n",
      "Epoch 29/30\n",
      "38/38 [==============================] - 0s 12ms/step - loss: 0.4519 - accuracy: 0.8150 - val_loss: 1.7780 - val_accuracy: 0.7333\n",
      "Epoch 30/30\n",
      "38/38 [==============================] - 0s 12ms/step - loss: 0.3919 - accuracy: 0.8550 - val_loss: 1.7764 - val_accuracy: 0.7333\n"
     ]
    },
    {
     "data": {
      "text/plain": [
       "<keras.src.callbacks.History at 0x7f3818159bd0>"
      ]
     },
     "execution_count": 11,
     "metadata": {},
     "output_type": "execute_result"
    }
   ],
   "source": [
    "import tensorflow as tf\n",
    "model = get_model(num_hidden_layers=10, activation=tf.nn.leaky_relu)\n",
    "!rm -rf log/leaky_relu\n",
    "tb_callback = keras.callbacks.TensorBoard(log_dir='./log/leaky_relu', histogram_freq=1, write_graph=True, write_images=True)\n",
    "model.fit(X_train, y_train_oh, epochs=30, batch_size=32, validation_data=(X_test, y_test_oh), callbacks=[tb_callback])"
   ]
  },
  {
   "cell_type": "markdown",
   "metadata": {
    "colab_type": "text",
    "id": "exW0_JcbUH-W"
   },
   "source": [
    "### SIGMOID activation but longer run (epochs)"
   ]
  },
  {
   "cell_type": "code",
   "execution_count": 12,
   "metadata": {
    "colab": {
     "base_uri": "https://localhost:8080/",
     "height": 1000
    },
    "colab_type": "code",
    "id": "iPJDDeKJUH-X",
    "outputId": "b39dec94-c552-423a-fd24-565beeaec453",
    "scrolled": true
   },
   "outputs": [
    {
     "name": "stdout",
     "output_type": "stream",
     "text": [
      "Epoch 1/300\n",
      "38/38 [==============================] - 3s 21ms/step - loss: 2.3313 - accuracy: 0.0925 - val_loss: 2.3057 - val_accuracy: 0.0900\n",
      "Epoch 2/300\n",
      "38/38 [==============================] - 0s 13ms/step - loss: 2.3135 - accuracy: 0.1183 - val_loss: 2.2964 - val_accuracy: 0.1433\n",
      "Epoch 3/300\n",
      "38/38 [==============================] - 1s 14ms/step - loss: 2.3065 - accuracy: 0.1192 - val_loss: 2.2930 - val_accuracy: 0.1433\n",
      "Epoch 4/300\n",
      "38/38 [==============================] - 0s 13ms/step - loss: 2.3029 - accuracy: 0.1192 - val_loss: 2.2921 - val_accuracy: 0.1433\n",
      "Epoch 5/300\n",
      "38/38 [==============================] - 0s 12ms/step - loss: 2.3020 - accuracy: 0.1192 - val_loss: 2.2922 - val_accuracy: 0.1433\n",
      "Epoch 6/300\n",
      "38/38 [==============================] - 0s 13ms/step - loss: 2.3010 - accuracy: 0.1192 - val_loss: 2.2928 - val_accuracy: 0.1433\n",
      "Epoch 7/300\n",
      "38/38 [==============================] - 0s 12ms/step - loss: 2.3009 - accuracy: 0.1192 - val_loss: 2.2931 - val_accuracy: 0.1433\n",
      "Epoch 8/300\n",
      "38/38 [==============================] - 0s 12ms/step - loss: 2.3007 - accuracy: 0.1192 - val_loss: 2.2928 - val_accuracy: 0.1433\n",
      "Epoch 9/300\n",
      "38/38 [==============================] - 0s 12ms/step - loss: 2.3006 - accuracy: 0.1192 - val_loss: 2.2928 - val_accuracy: 0.1433\n",
      "Epoch 10/300\n",
      "38/38 [==============================] - 0s 12ms/step - loss: 2.3008 - accuracy: 0.1192 - val_loss: 2.2933 - val_accuracy: 0.1433\n",
      "Epoch 11/300\n",
      "38/38 [==============================] - 0s 12ms/step - loss: 2.3008 - accuracy: 0.1192 - val_loss: 2.2933 - val_accuracy: 0.1433\n",
      "Epoch 12/300\n",
      "38/38 [==============================] - 0s 13ms/step - loss: 2.3004 - accuracy: 0.1192 - val_loss: 2.2931 - val_accuracy: 0.1433\n",
      "Epoch 13/300\n",
      "38/38 [==============================] - 0s 12ms/step - loss: 2.3006 - accuracy: 0.1192 - val_loss: 2.2934 - val_accuracy: 0.1433\n",
      "Epoch 14/300\n",
      "38/38 [==============================] - 0s 13ms/step - loss: 2.3007 - accuracy: 0.1192 - val_loss: 2.2940 - val_accuracy: 0.1433\n",
      "Epoch 15/300\n",
      "38/38 [==============================] - 0s 13ms/step - loss: 2.3008 - accuracy: 0.1192 - val_loss: 2.2936 - val_accuracy: 0.1433\n",
      "Epoch 16/300\n",
      "38/38 [==============================] - 0s 13ms/step - loss: 2.3011 - accuracy: 0.1192 - val_loss: 2.2937 - val_accuracy: 0.1433\n",
      "Epoch 17/300\n",
      "38/38 [==============================] - 0s 12ms/step - loss: 2.3003 - accuracy: 0.1192 - val_loss: 2.2946 - val_accuracy: 0.1433\n",
      "Epoch 18/300\n",
      "38/38 [==============================] - 0s 13ms/step - loss: 2.3006 - accuracy: 0.1192 - val_loss: 2.2937 - val_accuracy: 0.1433\n",
      "Epoch 19/300\n",
      "38/38 [==============================] - 0s 12ms/step - loss: 2.3012 - accuracy: 0.1192 - val_loss: 2.2937 - val_accuracy: 0.1433\n",
      "Epoch 20/300\n",
      "38/38 [==============================] - 0s 12ms/step - loss: 2.3005 - accuracy: 0.1192 - val_loss: 2.2930 - val_accuracy: 0.1433\n",
      "Epoch 21/300\n",
      "38/38 [==============================] - 0s 12ms/step - loss: 2.3016 - accuracy: 0.1192 - val_loss: 2.2932 - val_accuracy: 0.1433\n",
      "Epoch 22/300\n",
      "38/38 [==============================] - 0s 12ms/step - loss: 2.3011 - accuracy: 0.1192 - val_loss: 2.2936 - val_accuracy: 0.1433\n",
      "Epoch 23/300\n",
      "38/38 [==============================] - 0s 12ms/step - loss: 2.3004 - accuracy: 0.1192 - val_loss: 2.2940 - val_accuracy: 0.1433\n",
      "Epoch 24/300\n",
      "38/38 [==============================] - 1s 14ms/step - loss: 2.3003 - accuracy: 0.1192 - val_loss: 2.2937 - val_accuracy: 0.1433\n",
      "Epoch 25/300\n",
      "38/38 [==============================] - 1s 13ms/step - loss: 2.3007 - accuracy: 0.1192 - val_loss: 2.2939 - val_accuracy: 0.1433\n",
      "Epoch 26/300\n",
      "38/38 [==============================] - 0s 13ms/step - loss: 2.3007 - accuracy: 0.1192 - val_loss: 2.2937 - val_accuracy: 0.1433\n",
      "Epoch 27/300\n",
      "38/38 [==============================] - 0s 12ms/step - loss: 2.3006 - accuracy: 0.1192 - val_loss: 2.2940 - val_accuracy: 0.1433\n",
      "Epoch 28/300\n",
      "38/38 [==============================] - 0s 13ms/step - loss: 2.3006 - accuracy: 0.1192 - val_loss: 2.2933 - val_accuracy: 0.1433\n",
      "Epoch 29/300\n",
      "38/38 [==============================] - 0s 13ms/step - loss: 2.3008 - accuracy: 0.1192 - val_loss: 2.2933 - val_accuracy: 0.1433\n",
      "Epoch 30/300\n",
      "38/38 [==============================] - 0s 12ms/step - loss: 2.3008 - accuracy: 0.1192 - val_loss: 2.2936 - val_accuracy: 0.1433\n",
      "Epoch 31/300\n",
      "38/38 [==============================] - 0s 13ms/step - loss: 2.3011 - accuracy: 0.1192 - val_loss: 2.2932 - val_accuracy: 0.1433\n",
      "Epoch 32/300\n",
      "38/38 [==============================] - 0s 12ms/step - loss: 2.3004 - accuracy: 0.1192 - val_loss: 2.2932 - val_accuracy: 0.1433\n",
      "Epoch 33/300\n",
      "38/38 [==============================] - 0s 13ms/step - loss: 2.3008 - accuracy: 0.1192 - val_loss: 2.2930 - val_accuracy: 0.1433\n",
      "Epoch 34/300\n",
      "38/38 [==============================] - 0s 12ms/step - loss: 2.3010 - accuracy: 0.1192 - val_loss: 2.2935 - val_accuracy: 0.1433\n",
      "Epoch 35/300\n",
      "38/38 [==============================] - 0s 12ms/step - loss: 2.3007 - accuracy: 0.1192 - val_loss: 2.2937 - val_accuracy: 0.1433\n",
      "Epoch 36/300\n",
      "38/38 [==============================] - 0s 12ms/step - loss: 2.3005 - accuracy: 0.1192 - val_loss: 2.2930 - val_accuracy: 0.1433\n",
      "Epoch 37/300\n",
      "38/38 [==============================] - 0s 12ms/step - loss: 2.3006 - accuracy: 0.1192 - val_loss: 2.2931 - val_accuracy: 0.1433\n",
      "Epoch 38/300\n",
      "38/38 [==============================] - 0s 12ms/step - loss: 2.3005 - accuracy: 0.1192 - val_loss: 2.2935 - val_accuracy: 0.1433\n",
      "Epoch 39/300\n",
      "38/38 [==============================] - 0s 12ms/step - loss: 2.3004 - accuracy: 0.1192 - val_loss: 2.2935 - val_accuracy: 0.1433\n",
      "Epoch 40/300\n",
      "38/38 [==============================] - 0s 12ms/step - loss: 2.3005 - accuracy: 0.1192 - val_loss: 2.2932 - val_accuracy: 0.1433\n",
      "Epoch 41/300\n",
      "38/38 [==============================] - 0s 12ms/step - loss: 2.3010 - accuracy: 0.1192 - val_loss: 2.2936 - val_accuracy: 0.1433\n",
      "Epoch 42/300\n",
      "38/38 [==============================] - 0s 13ms/step - loss: 2.3007 - accuracy: 0.1192 - val_loss: 2.2932 - val_accuracy: 0.1433\n",
      "Epoch 43/300\n",
      "38/38 [==============================] - 0s 12ms/step - loss: 2.3005 - accuracy: 0.1192 - val_loss: 2.2927 - val_accuracy: 0.1433\n",
      "Epoch 44/300\n",
      "38/38 [==============================] - 0s 12ms/step - loss: 2.3009 - accuracy: 0.1192 - val_loss: 2.2940 - val_accuracy: 0.1433\n",
      "Epoch 45/300\n",
      "38/38 [==============================] - 0s 13ms/step - loss: 2.3010 - accuracy: 0.1192 - val_loss: 2.2925 - val_accuracy: 0.1433\n",
      "Epoch 46/300\n",
      "38/38 [==============================] - 1s 14ms/step - loss: 2.3006 - accuracy: 0.1192 - val_loss: 2.2946 - val_accuracy: 0.1433\n",
      "Epoch 47/300\n",
      "38/38 [==============================] - 0s 12ms/step - loss: 2.3005 - accuracy: 0.1192 - val_loss: 2.2936 - val_accuracy: 0.1433\n",
      "Epoch 48/300\n",
      "38/38 [==============================] - 0s 12ms/step - loss: 2.3014 - accuracy: 0.1192 - val_loss: 2.2942 - val_accuracy: 0.1433\n",
      "Epoch 49/300\n",
      "38/38 [==============================] - 0s 13ms/step - loss: 2.3004 - accuracy: 0.1192 - val_loss: 2.2935 - val_accuracy: 0.1433\n",
      "Epoch 50/300\n",
      "38/38 [==============================] - 1s 14ms/step - loss: 2.3005 - accuracy: 0.1192 - val_loss: 2.2942 - val_accuracy: 0.1433\n",
      "Epoch 51/300\n",
      "38/38 [==============================] - 0s 13ms/step - loss: 2.3005 - accuracy: 0.1192 - val_loss: 2.2932 - val_accuracy: 0.1433\n",
      "Epoch 52/300\n",
      "38/38 [==============================] - 0s 13ms/step - loss: 2.3007 - accuracy: 0.1192 - val_loss: 2.2930 - val_accuracy: 0.1433\n",
      "Epoch 53/300\n",
      "38/38 [==============================] - 0s 13ms/step - loss: 2.3010 - accuracy: 0.1192 - val_loss: 2.2933 - val_accuracy: 0.1433\n",
      "Epoch 54/300\n",
      "38/38 [==============================] - 1s 14ms/step - loss: 2.3009 - accuracy: 0.1192 - val_loss: 2.2927 - val_accuracy: 0.1433\n",
      "Epoch 55/300\n",
      "38/38 [==============================] - 0s 13ms/step - loss: 2.3009 - accuracy: 0.1192 - val_loss: 2.2934 - val_accuracy: 0.1433\n",
      "Epoch 56/300\n",
      "38/38 [==============================] - 0s 12ms/step - loss: 2.3005 - accuracy: 0.1192 - val_loss: 2.2931 - val_accuracy: 0.1433\n",
      "Epoch 57/300\n",
      "38/38 [==============================] - 0s 13ms/step - loss: 2.3012 - accuracy: 0.1192 - val_loss: 2.2946 - val_accuracy: 0.1433\n",
      "Epoch 58/300\n",
      "38/38 [==============================] - 0s 12ms/step - loss: 2.3005 - accuracy: 0.1192 - val_loss: 2.2934 - val_accuracy: 0.1433\n",
      "Epoch 59/300\n",
      "38/38 [==============================] - 0s 13ms/step - loss: 2.3007 - accuracy: 0.1192 - val_loss: 2.2926 - val_accuracy: 0.1433\n",
      "Epoch 60/300\n",
      "38/38 [==============================] - 0s 12ms/step - loss: 2.3007 - accuracy: 0.1192 - val_loss: 2.2936 - val_accuracy: 0.1433\n",
      "Epoch 61/300\n",
      "38/38 [==============================] - 0s 12ms/step - loss: 2.3008 - accuracy: 0.1192 - val_loss: 2.2929 - val_accuracy: 0.1433\n",
      "Epoch 62/300\n",
      "38/38 [==============================] - 1s 14ms/step - loss: 2.3005 - accuracy: 0.1192 - val_loss: 2.2938 - val_accuracy: 0.1433\n",
      "Epoch 63/300\n",
      "38/38 [==============================] - 0s 12ms/step - loss: 2.3007 - accuracy: 0.1192 - val_loss: 2.2950 - val_accuracy: 0.1433\n",
      "Epoch 64/300\n",
      "38/38 [==============================] - 0s 12ms/step - loss: 2.3009 - accuracy: 0.1192 - val_loss: 2.2936 - val_accuracy: 0.1433\n",
      "Epoch 65/300\n",
      "38/38 [==============================] - 0s 12ms/step - loss: 2.3007 - accuracy: 0.1192 - val_loss: 2.2932 - val_accuracy: 0.1433\n",
      "Epoch 66/300\n",
      "38/38 [==============================] - 0s 12ms/step - loss: 2.3003 - accuracy: 0.1192 - val_loss: 2.2932 - val_accuracy: 0.1433\n",
      "Epoch 67/300\n",
      "38/38 [==============================] - 0s 12ms/step - loss: 2.3011 - accuracy: 0.1192 - val_loss: 2.2931 - val_accuracy: 0.1433\n",
      "Epoch 68/300\n",
      "38/38 [==============================] - 0s 12ms/step - loss: 2.3003 - accuracy: 0.1192 - val_loss: 2.2932 - val_accuracy: 0.1433\n",
      "Epoch 69/300\n",
      "38/38 [==============================] - 0s 12ms/step - loss: 2.3009 - accuracy: 0.1192 - val_loss: 2.2929 - val_accuracy: 0.1433\n",
      "Epoch 70/300\n",
      "38/38 [==============================] - 0s 12ms/step - loss: 2.3003 - accuracy: 0.1192 - val_loss: 2.2933 - val_accuracy: 0.1433\n",
      "Epoch 71/300\n",
      "38/38 [==============================] - 0s 12ms/step - loss: 2.2999 - accuracy: 0.1192 - val_loss: 2.2920 - val_accuracy: 0.1433\n",
      "Epoch 72/300\n",
      "38/38 [==============================] - 0s 13ms/step - loss: 2.2985 - accuracy: 0.1192 - val_loss: 2.2905 - val_accuracy: 0.1433\n",
      "Epoch 73/300\n",
      "38/38 [==============================] - 0s 11ms/step - loss: 2.2965 - accuracy: 0.1192 - val_loss: 2.2880 - val_accuracy: 0.1433\n",
      "Epoch 74/300\n",
      "38/38 [==============================] - 0s 12ms/step - loss: 2.2928 - accuracy: 0.1192 - val_loss: 2.2837 - val_accuracy: 0.1433\n",
      "Epoch 75/300\n",
      "38/38 [==============================] - 0s 11ms/step - loss: 2.2870 - accuracy: 0.1192 - val_loss: 2.2746 - val_accuracy: 0.1433\n",
      "Epoch 76/300\n",
      "38/38 [==============================] - 0s 12ms/step - loss: 2.2761 - accuracy: 0.1292 - val_loss: 2.2615 - val_accuracy: 0.2033\n",
      "Epoch 77/300\n",
      "38/38 [==============================] - 0s 13ms/step - loss: 2.2588 - accuracy: 0.1875 - val_loss: 2.2446 - val_accuracy: 0.1967\n",
      "Epoch 78/300\n",
      "38/38 [==============================] - 0s 11ms/step - loss: 2.2356 - accuracy: 0.1958 - val_loss: 2.2195 - val_accuracy: 0.1933\n",
      "Epoch 79/300\n",
      "38/38 [==============================] - 0s 11ms/step - loss: 2.2092 - accuracy: 0.1883 - val_loss: 2.1842 - val_accuracy: 0.2033\n",
      "Epoch 80/300\n",
      "38/38 [==============================] - 0s 12ms/step - loss: 2.1894 - accuracy: 0.1833 - val_loss: 2.1654 - val_accuracy: 0.2133\n",
      "Epoch 81/300\n",
      "38/38 [==============================] - 0s 12ms/step - loss: 2.1498 - accuracy: 0.1942 - val_loss: 2.1339 - val_accuracy: 0.2033\n",
      "Epoch 82/300\n",
      "38/38 [==============================] - 0s 12ms/step - loss: 2.1090 - accuracy: 0.1917 - val_loss: 2.1015 - val_accuracy: 0.2000\n",
      "Epoch 83/300\n",
      "38/38 [==============================] - 0s 12ms/step - loss: 2.0939 - accuracy: 0.1783 - val_loss: 2.0708 - val_accuracy: 0.1933\n",
      "Epoch 84/300\n",
      "38/38 [==============================] - 0s 12ms/step - loss: 2.0599 - accuracy: 0.1600 - val_loss: 2.0395 - val_accuracy: 0.1967\n",
      "Epoch 85/300\n",
      "38/38 [==============================] - 0s 13ms/step - loss: 2.0302 - accuracy: 0.1800 - val_loss: 2.0232 - val_accuracy: 0.1967\n",
      "Epoch 86/300\n",
      "38/38 [==============================] - 0s 13ms/step - loss: 2.0157 - accuracy: 0.1708 - val_loss: 2.0172 - val_accuracy: 0.2100\n",
      "Epoch 87/300\n",
      "38/38 [==============================] - 0s 12ms/step - loss: 2.0387 - accuracy: 0.1525 - val_loss: 2.0039 - val_accuracy: 0.2000\n",
      "Epoch 88/300\n",
      "38/38 [==============================] - 0s 12ms/step - loss: 1.9900 - accuracy: 0.1842 - val_loss: 2.0583 - val_accuracy: 0.2033\n",
      "Epoch 89/300\n",
      "38/38 [==============================] - 0s 12ms/step - loss: 2.0290 - accuracy: 0.1975 - val_loss: 2.0117 - val_accuracy: 0.2300\n",
      "Epoch 90/300\n",
      "38/38 [==============================] - 0s 12ms/step - loss: 1.9488 - accuracy: 0.1950 - val_loss: 1.9818 - val_accuracy: 0.2033\n",
      "Epoch 91/300\n",
      "38/38 [==============================] - 0s 11ms/step - loss: 1.9459 - accuracy: 0.1917 - val_loss: 1.9817 - val_accuracy: 0.2333\n",
      "Epoch 92/300\n",
      "38/38 [==============================] - 0s 12ms/step - loss: 1.9366 - accuracy: 0.2008 - val_loss: 1.9873 - val_accuracy: 0.2200\n",
      "Epoch 93/300\n",
      "38/38 [==============================] - 0s 12ms/step - loss: 1.9443 - accuracy: 0.1933 - val_loss: 1.9767 - val_accuracy: 0.2300\n",
      "Epoch 94/300\n",
      "38/38 [==============================] - 0s 11ms/step - loss: 1.9174 - accuracy: 0.1925 - val_loss: 1.9848 - val_accuracy: 0.2333\n",
      "Epoch 95/300\n",
      "38/38 [==============================] - 0s 13ms/step - loss: 1.9137 - accuracy: 0.2033 - val_loss: 1.9699 - val_accuracy: 0.2333\n",
      "Epoch 96/300\n",
      "38/38 [==============================] - 0s 12ms/step - loss: 1.9156 - accuracy: 0.2025 - val_loss: 1.9904 - val_accuracy: 0.2467\n",
      "Epoch 97/300\n",
      "38/38 [==============================] - 0s 12ms/step - loss: 1.9643 - accuracy: 0.1983 - val_loss: 1.9973 - val_accuracy: 0.2500\n",
      "Epoch 98/300\n",
      "38/38 [==============================] - 0s 11ms/step - loss: 1.9557 - accuracy: 0.2117 - val_loss: 1.9927 - val_accuracy: 0.2500\n",
      "Epoch 99/300\n",
      "38/38 [==============================] - 0s 11ms/step - loss: 1.9386 - accuracy: 0.2075 - val_loss: 1.9935 - val_accuracy: 0.2233\n",
      "Epoch 100/300\n",
      "38/38 [==============================] - 0s 11ms/step - loss: 1.9215 - accuracy: 0.1925 - val_loss: 1.9765 - val_accuracy: 0.2200\n",
      "Epoch 101/300\n",
      "38/38 [==============================] - 0s 13ms/step - loss: 1.9105 - accuracy: 0.1983 - val_loss: 1.9818 - val_accuracy: 0.2333\n",
      "Epoch 102/300\n",
      "38/38 [==============================] - 0s 11ms/step - loss: 1.9069 - accuracy: 0.2017 - val_loss: 1.9625 - val_accuracy: 0.2233\n",
      "Epoch 103/300\n",
      "38/38 [==============================] - 0s 11ms/step - loss: 1.8874 - accuracy: 0.1983 - val_loss: 1.9588 - val_accuracy: 0.2367\n",
      "Epoch 104/300\n",
      "38/38 [==============================] - 0s 11ms/step - loss: 1.9100 - accuracy: 0.2008 - val_loss: 1.9724 - val_accuracy: 0.2000\n",
      "Epoch 105/300\n",
      "38/38 [==============================] - 0s 11ms/step - loss: 1.9014 - accuracy: 0.2092 - val_loss: 1.9555 - val_accuracy: 0.2367\n",
      "Epoch 106/300\n",
      "38/38 [==============================] - 0s 11ms/step - loss: 1.8950 - accuracy: 0.1992 - val_loss: 1.9737 - val_accuracy: 0.2367\n",
      "Epoch 107/300\n",
      "38/38 [==============================] - 0s 12ms/step - loss: 1.8843 - accuracy: 0.2025 - val_loss: 1.9766 - val_accuracy: 0.2367\n",
      "Epoch 108/300\n",
      "38/38 [==============================] - 0s 13ms/step - loss: 1.8828 - accuracy: 0.2058 - val_loss: 1.9791 - val_accuracy: 0.2367\n",
      "Epoch 109/300\n",
      "38/38 [==============================] - 1s 15ms/step - loss: 1.8799 - accuracy: 0.2067 - val_loss: 1.9761 - val_accuracy: 0.2367\n",
      "Epoch 110/300\n",
      "38/38 [==============================] - 0s 13ms/step - loss: 1.8788 - accuracy: 0.2067 - val_loss: 1.9676 - val_accuracy: 0.2400\n",
      "Epoch 111/300\n",
      "38/38 [==============================] - 0s 12ms/step - loss: 1.8802 - accuracy: 0.2100 - val_loss: 1.9760 - val_accuracy: 0.2433\n",
      "Epoch 112/300\n",
      "38/38 [==============================] - 0s 12ms/step - loss: 1.8793 - accuracy: 0.2108 - val_loss: 1.9753 - val_accuracy: 0.2433\n",
      "Epoch 113/300\n",
      "38/38 [==============================] - 0s 13ms/step - loss: 1.8740 - accuracy: 0.2092 - val_loss: 1.9821 - val_accuracy: 0.2300\n",
      "Epoch 114/300\n",
      "38/38 [==============================] - 0s 12ms/step - loss: 1.9170 - accuracy: 0.1842 - val_loss: 1.9910 - val_accuracy: 0.2033\n",
      "Epoch 115/300\n",
      "38/38 [==============================] - 0s 12ms/step - loss: 1.9005 - accuracy: 0.2083 - val_loss: 2.0179 - val_accuracy: 0.2300\n",
      "Epoch 116/300\n",
      "38/38 [==============================] - 0s 12ms/step - loss: 1.9115 - accuracy: 0.2050 - val_loss: 1.9693 - val_accuracy: 0.2467\n",
      "Epoch 117/300\n",
      "38/38 [==============================] - 0s 11ms/step - loss: 1.8873 - accuracy: 0.2108 - val_loss: 1.9869 - val_accuracy: 0.2300\n",
      "Epoch 118/300\n",
      "38/38 [==============================] - 0s 13ms/step - loss: 1.8998 - accuracy: 0.2000 - val_loss: 1.9773 - val_accuracy: 0.2267\n",
      "Epoch 119/300\n",
      "38/38 [==============================] - 1s 14ms/step - loss: 1.8971 - accuracy: 0.2000 - val_loss: 1.9722 - val_accuracy: 0.2300\n",
      "Epoch 120/300\n",
      "38/38 [==============================] - 1s 14ms/step - loss: 1.8770 - accuracy: 0.2067 - val_loss: 1.9660 - val_accuracy: 0.2367\n",
      "Epoch 121/300\n",
      "38/38 [==============================] - 0s 13ms/step - loss: 1.8810 - accuracy: 0.2092 - val_loss: 1.9452 - val_accuracy: 0.2433\n",
      "Epoch 122/300\n",
      "38/38 [==============================] - 0s 12ms/step - loss: 1.8633 - accuracy: 0.2083 - val_loss: 1.9647 - val_accuracy: 0.2433\n",
      "Epoch 123/300\n",
      "38/38 [==============================] - 0s 12ms/step - loss: 1.8811 - accuracy: 0.2075 - val_loss: 1.9794 - val_accuracy: 0.2400\n",
      "Epoch 124/300\n",
      "38/38 [==============================] - 0s 12ms/step - loss: 1.8804 - accuracy: 0.2092 - val_loss: 1.9585 - val_accuracy: 0.2333\n",
      "Epoch 125/300\n",
      "38/38 [==============================] - 0s 12ms/step - loss: 1.8786 - accuracy: 0.2008 - val_loss: 1.9397 - val_accuracy: 0.2267\n",
      "Epoch 126/300\n",
      "38/38 [==============================] - 0s 11ms/step - loss: 1.8707 - accuracy: 0.2017 - val_loss: 1.9295 - val_accuracy: 0.2367\n",
      "Epoch 127/300\n",
      "38/38 [==============================] - 0s 11ms/step - loss: 1.8604 - accuracy: 0.2092 - val_loss: 1.9620 - val_accuracy: 0.2333\n",
      "Epoch 128/300\n",
      "38/38 [==============================] - 0s 12ms/step - loss: 1.8765 - accuracy: 0.2008 - val_loss: 1.9324 - val_accuracy: 0.2200\n",
      "Epoch 129/300\n",
      "38/38 [==============================] - 0s 13ms/step - loss: 1.9151 - accuracy: 0.1992 - val_loss: 1.9414 - val_accuracy: 0.2000\n",
      "Epoch 130/300\n",
      "38/38 [==============================] - 0s 12ms/step - loss: 1.9092 - accuracy: 0.2017 - val_loss: 1.9167 - val_accuracy: 0.2000\n",
      "Epoch 131/300\n",
      "38/38 [==============================] - 0s 12ms/step - loss: 1.8840 - accuracy: 0.1892 - val_loss: 1.9444 - val_accuracy: 0.2067\n",
      "Epoch 132/300\n",
      "38/38 [==============================] - 0s 12ms/step - loss: 1.8752 - accuracy: 0.2058 - val_loss: 1.9169 - val_accuracy: 0.2100\n",
      "Epoch 133/300\n",
      "38/38 [==============================] - 0s 12ms/step - loss: 1.8821 - accuracy: 0.2042 - val_loss: 1.9505 - val_accuracy: 0.2067\n",
      "Epoch 134/300\n",
      "38/38 [==============================] - 0s 13ms/step - loss: 1.8897 - accuracy: 0.1925 - val_loss: 1.9472 - val_accuracy: 0.2367\n",
      "Epoch 135/300\n",
      "38/38 [==============================] - 0s 13ms/step - loss: 1.8725 - accuracy: 0.1867 - val_loss: 1.9252 - val_accuracy: 0.2300\n",
      "Epoch 136/300\n",
      "38/38 [==============================] - 0s 12ms/step - loss: 1.8720 - accuracy: 0.1850 - val_loss: 1.9084 - val_accuracy: 0.2033\n",
      "Epoch 137/300\n",
      "38/38 [==============================] - 0s 12ms/step - loss: 1.8826 - accuracy: 0.1883 - val_loss: 1.9253 - val_accuracy: 0.2067\n",
      "Epoch 138/300\n",
      "38/38 [==============================] - 0s 11ms/step - loss: 1.8681 - accuracy: 0.2058 - val_loss: 1.9081 - val_accuracy: 0.2100\n",
      "Epoch 139/300\n",
      "38/38 [==============================] - 0s 12ms/step - loss: 1.8668 - accuracy: 0.2050 - val_loss: 1.8981 - val_accuracy: 0.2033\n",
      "Epoch 140/300\n",
      "38/38 [==============================] - 0s 12ms/step - loss: 1.8634 - accuracy: 0.2067 - val_loss: 1.8969 - val_accuracy: 0.2100\n",
      "Epoch 141/300\n",
      "38/38 [==============================] - 0s 12ms/step - loss: 1.8593 - accuracy: 0.2058 - val_loss: 1.9032 - val_accuracy: 0.2033\n",
      "Epoch 142/300\n",
      "38/38 [==============================] - 0s 13ms/step - loss: 1.8665 - accuracy: 0.2050 - val_loss: 1.9040 - val_accuracy: 0.2067\n",
      "Epoch 143/300\n",
      "38/38 [==============================] - 0s 12ms/step - loss: 1.8659 - accuracy: 0.1917 - val_loss: 1.8988 - val_accuracy: 0.2067\n",
      "Epoch 144/300\n",
      "38/38 [==============================] - 0s 11ms/step - loss: 1.8605 - accuracy: 0.2050 - val_loss: 1.9001 - val_accuracy: 0.2067\n",
      "Epoch 145/300\n",
      "38/38 [==============================] - 0s 11ms/step - loss: 1.8634 - accuracy: 0.1950 - val_loss: 1.9123 - val_accuracy: 0.2067\n",
      "Epoch 146/300\n",
      "38/38 [==============================] - 0s 11ms/step - loss: 1.8486 - accuracy: 0.2050 - val_loss: 1.9082 - val_accuracy: 0.2033\n",
      "Epoch 147/300\n",
      "38/38 [==============================] - 0s 12ms/step - loss: 1.8512 - accuracy: 0.1908 - val_loss: 1.9036 - val_accuracy: 0.2033\n",
      "Epoch 148/300\n",
      "38/38 [==============================] - 0s 12ms/step - loss: 1.8528 - accuracy: 0.1917 - val_loss: 1.9074 - val_accuracy: 0.2467\n",
      "Epoch 149/300\n",
      "38/38 [==============================] - 0s 12ms/step - loss: 1.8421 - accuracy: 0.2092 - val_loss: 1.9182 - val_accuracy: 0.2467\n",
      "Epoch 150/300\n",
      "38/38 [==============================] - 1s 14ms/step - loss: 1.8576 - accuracy: 0.1992 - val_loss: 1.9090 - val_accuracy: 0.2367\n",
      "Epoch 151/300\n",
      "38/38 [==============================] - 0s 12ms/step - loss: 1.8512 - accuracy: 0.2100 - val_loss: 1.9326 - val_accuracy: 0.2000\n",
      "Epoch 152/300\n",
      "38/38 [==============================] - 0s 12ms/step - loss: 1.8543 - accuracy: 0.1967 - val_loss: 1.9321 - val_accuracy: 0.2000\n",
      "Epoch 153/300\n",
      "38/38 [==============================] - 0s 13ms/step - loss: 1.8492 - accuracy: 0.2083 - val_loss: 1.9247 - val_accuracy: 0.2500\n",
      "Epoch 154/300\n",
      "38/38 [==============================] - 1s 14ms/step - loss: 1.8448 - accuracy: 0.2108 - val_loss: 1.9092 - val_accuracy: 0.2467\n",
      "Epoch 155/300\n",
      "38/38 [==============================] - 1s 16ms/step - loss: 1.8331 - accuracy: 0.2092 - val_loss: 1.9116 - val_accuracy: 0.2500\n",
      "Epoch 156/300\n",
      "38/38 [==============================] - 0s 13ms/step - loss: 1.8344 - accuracy: 0.2117 - val_loss: 1.9040 - val_accuracy: 0.2500\n",
      "Epoch 157/300\n",
      "38/38 [==============================] - 0s 13ms/step - loss: 1.8357 - accuracy: 0.2108 - val_loss: 1.9140 - val_accuracy: 0.2500\n",
      "Epoch 158/300\n",
      "38/38 [==============================] - 0s 12ms/step - loss: 1.8345 - accuracy: 0.2117 - val_loss: 1.9068 - val_accuracy: 0.2533\n",
      "Epoch 159/300\n",
      "38/38 [==============================] - 0s 12ms/step - loss: 1.8334 - accuracy: 0.2117 - val_loss: 1.9027 - val_accuracy: 0.2533\n",
      "Epoch 160/300\n",
      "38/38 [==============================] - 0s 13ms/step - loss: 1.8317 - accuracy: 0.2125 - val_loss: 1.9070 - val_accuracy: 0.2533\n",
      "Epoch 161/300\n",
      "38/38 [==============================] - 0s 12ms/step - loss: 1.8275 - accuracy: 0.2042 - val_loss: 1.9320 - val_accuracy: 0.2500\n",
      "Epoch 162/300\n",
      "38/38 [==============================] - 0s 12ms/step - loss: 1.8362 - accuracy: 0.2125 - val_loss: 1.9408 - val_accuracy: 0.2467\n",
      "Epoch 163/300\n",
      "38/38 [==============================] - 0s 13ms/step - loss: 1.8335 - accuracy: 0.2100 - val_loss: 1.9031 - val_accuracy: 0.2467\n",
      "Epoch 164/300\n",
      "38/38 [==============================] - 0s 12ms/step - loss: 1.8253 - accuracy: 0.2083 - val_loss: 1.8964 - val_accuracy: 0.2500\n",
      "Epoch 165/300\n",
      "38/38 [==============================] - 1s 14ms/step - loss: 1.8168 - accuracy: 0.2133 - val_loss: 1.8724 - val_accuracy: 0.2500\n",
      "Epoch 166/300\n",
      "38/38 [==============================] - 0s 12ms/step - loss: 1.8125 - accuracy: 0.2133 - val_loss: 1.8865 - val_accuracy: 0.2500\n",
      "Epoch 167/300\n",
      "38/38 [==============================] - 1s 14ms/step - loss: 1.8145 - accuracy: 0.2125 - val_loss: 1.8949 - val_accuracy: 0.2533\n",
      "Epoch 168/300\n",
      "38/38 [==============================] - 1s 14ms/step - loss: 1.8439 - accuracy: 0.2125 - val_loss: 1.9663 - val_accuracy: 0.2467\n",
      "Epoch 169/300\n",
      "38/38 [==============================] - 1s 15ms/step - loss: 1.8586 - accuracy: 0.2125 - val_loss: 1.9582 - val_accuracy: 0.2467\n",
      "Epoch 170/300\n",
      "38/38 [==============================] - 1s 17ms/step - loss: 1.8402 - accuracy: 0.2142 - val_loss: 1.8954 - val_accuracy: 0.2567\n",
      "Epoch 171/300\n",
      "38/38 [==============================] - 1s 25ms/step - loss: 1.8139 - accuracy: 0.2133 - val_loss: 1.8864 - val_accuracy: 0.2500\n",
      "Epoch 172/300\n",
      "38/38 [==============================] - 1s 18ms/step - loss: 1.8184 - accuracy: 0.2125 - val_loss: 1.9086 - val_accuracy: 0.2533\n",
      "Epoch 173/300\n",
      "38/38 [==============================] - 0s 12ms/step - loss: 1.8194 - accuracy: 0.2133 - val_loss: 1.8842 - val_accuracy: 0.2567\n",
      "Epoch 174/300\n",
      "38/38 [==============================] - 1s 14ms/step - loss: 1.8042 - accuracy: 0.2142 - val_loss: 1.8594 - val_accuracy: 0.2533\n",
      "Epoch 175/300\n",
      "38/38 [==============================] - 0s 13ms/step - loss: 1.8054 - accuracy: 0.2150 - val_loss: 1.8710 - val_accuracy: 0.2533\n",
      "Epoch 176/300\n",
      "38/38 [==============================] - 1s 15ms/step - loss: 1.7946 - accuracy: 0.2150 - val_loss: 1.8645 - val_accuracy: 0.2567\n",
      "Epoch 177/300\n",
      "38/38 [==============================] - 1s 15ms/step - loss: 1.7994 - accuracy: 0.2142 - val_loss: 1.8838 - val_accuracy: 0.2533\n",
      "Epoch 178/300\n",
      "38/38 [==============================] - 0s 13ms/step - loss: 1.7968 - accuracy: 0.2133 - val_loss: 1.8699 - val_accuracy: 0.2567\n",
      "Epoch 179/300\n",
      "38/38 [==============================] - 1s 19ms/step - loss: 1.7978 - accuracy: 0.2125 - val_loss: 1.8696 - val_accuracy: 0.2533\n",
      "Epoch 180/300\n",
      "38/38 [==============================] - 1s 20ms/step - loss: 1.8040 - accuracy: 0.2150 - val_loss: 1.9138 - val_accuracy: 0.2500\n",
      "Epoch 181/300\n",
      "38/38 [==============================] - 1s 17ms/step - loss: 1.8057 - accuracy: 0.2133 - val_loss: 1.8601 - val_accuracy: 0.2533\n",
      "Epoch 182/300\n",
      "38/38 [==============================] - 1s 16ms/step - loss: 1.7945 - accuracy: 0.2133 - val_loss: 1.8618 - val_accuracy: 0.2533\n",
      "Epoch 183/300\n",
      "38/38 [==============================] - 1s 23ms/step - loss: 1.7942 - accuracy: 0.2133 - val_loss: 1.8551 - val_accuracy: 0.2533\n",
      "Epoch 184/300\n",
      "38/38 [==============================] - 1s 26ms/step - loss: 1.7960 - accuracy: 0.2133 - val_loss: 1.8600 - val_accuracy: 0.2533\n",
      "Epoch 185/300\n",
      "38/38 [==============================] - 1s 17ms/step - loss: 1.7898 - accuracy: 0.2133 - val_loss: 1.8344 - val_accuracy: 0.2533\n",
      "Epoch 186/300\n",
      "38/38 [==============================] - 1s 23ms/step - loss: 1.7966 - accuracy: 0.2108 - val_loss: 1.8347 - val_accuracy: 0.2533\n",
      "Epoch 187/300\n",
      "38/38 [==============================] - 1s 23ms/step - loss: 1.7895 - accuracy: 0.2117 - val_loss: 1.8304 - val_accuracy: 0.2533\n",
      "Epoch 188/300\n",
      "38/38 [==============================] - 1s 18ms/step - loss: 1.7873 - accuracy: 0.2117 - val_loss: 1.8348 - val_accuracy: 0.2533\n",
      "Epoch 189/300\n",
      "38/38 [==============================] - 1s 29ms/step - loss: 1.7924 - accuracy: 0.2108 - val_loss: 1.8591 - val_accuracy: 0.2567\n",
      "Epoch 190/300\n",
      "38/38 [==============================] - 1s 20ms/step - loss: 1.7857 - accuracy: 0.2133 - val_loss: 1.8714 - val_accuracy: 0.2567\n",
      "Epoch 191/300\n",
      "38/38 [==============================] - 1s 23ms/step - loss: 1.7831 - accuracy: 0.2142 - val_loss: 1.8341 - val_accuracy: 0.2600\n",
      "Epoch 192/300\n",
      "38/38 [==============================] - 1s 19ms/step - loss: 1.7803 - accuracy: 0.2142 - val_loss: 1.8330 - val_accuracy: 0.2567\n",
      "Epoch 193/300\n",
      "38/38 [==============================] - 1s 23ms/step - loss: 1.7786 - accuracy: 0.2150 - val_loss: 1.8331 - val_accuracy: 0.2567\n",
      "Epoch 194/300\n",
      "38/38 [==============================] - 1s 14ms/step - loss: 1.7781 - accuracy: 0.2150 - val_loss: 1.8340 - val_accuracy: 0.2567\n",
      "Epoch 195/300\n",
      "38/38 [==============================] - 0s 13ms/step - loss: 1.7781 - accuracy: 0.2142 - val_loss: 1.8413 - val_accuracy: 0.2567\n",
      "Epoch 196/300\n",
      "38/38 [==============================] - 0s 13ms/step - loss: 1.7890 - accuracy: 0.2108 - val_loss: 1.8237 - val_accuracy: 0.2600\n",
      "Epoch 197/300\n",
      "38/38 [==============================] - 1s 14ms/step - loss: 1.7814 - accuracy: 0.2125 - val_loss: 1.8360 - val_accuracy: 0.2567\n",
      "Epoch 198/300\n",
      "38/38 [==============================] - 1s 15ms/step - loss: 1.7772 - accuracy: 0.2133 - val_loss: 1.8370 - val_accuracy: 0.2567\n",
      "Epoch 199/300\n",
      "38/38 [==============================] - 0s 13ms/step - loss: 1.8050 - accuracy: 0.2083 - val_loss: 1.8983 - val_accuracy: 0.2467\n",
      "Epoch 200/300\n",
      "38/38 [==============================] - 0s 13ms/step - loss: 1.7782 - accuracy: 0.2142 - val_loss: 1.8400 - val_accuracy: 0.2600\n",
      "Epoch 201/300\n",
      "38/38 [==============================] - 0s 12ms/step - loss: 1.7911 - accuracy: 0.2125 - val_loss: 1.8682 - val_accuracy: 0.2533\n",
      "Epoch 202/300\n",
      "38/38 [==============================] - 0s 12ms/step - loss: 1.7762 - accuracy: 0.2142 - val_loss: 1.8740 - val_accuracy: 0.2533\n",
      "Epoch 203/300\n",
      "38/38 [==============================] - 0s 12ms/step - loss: 1.8507 - accuracy: 0.2133 - val_loss: 1.8771 - val_accuracy: 0.2533\n",
      "Epoch 204/300\n",
      "38/38 [==============================] - 1s 15ms/step - loss: 1.7820 - accuracy: 0.2142 - val_loss: 1.8518 - val_accuracy: 0.2533\n",
      "Epoch 205/300\n",
      "38/38 [==============================] - 1s 20ms/step - loss: 1.7803 - accuracy: 0.2142 - val_loss: 1.8602 - val_accuracy: 0.2533\n",
      "Epoch 206/300\n",
      "38/38 [==============================] - 1s 18ms/step - loss: 1.7733 - accuracy: 0.2133 - val_loss: 1.8305 - val_accuracy: 0.2533\n",
      "Epoch 207/300\n",
      "38/38 [==============================] - 1s 16ms/step - loss: 1.7711 - accuracy: 0.2133 - val_loss: 1.8296 - val_accuracy: 0.2500\n",
      "Epoch 208/300\n",
      "38/38 [==============================] - 0s 13ms/step - loss: 1.7699 - accuracy: 0.2142 - val_loss: 1.8303 - val_accuracy: 0.2533\n",
      "Epoch 209/300\n",
      "38/38 [==============================] - 0s 13ms/step - loss: 1.7663 - accuracy: 0.2142 - val_loss: 1.8270 - val_accuracy: 0.2533\n",
      "Epoch 210/300\n",
      "38/38 [==============================] - 0s 12ms/step - loss: 1.7679 - accuracy: 0.2133 - val_loss: 1.8209 - val_accuracy: 0.2533\n",
      "Epoch 211/300\n",
      "38/38 [==============================] - 0s 12ms/step - loss: 1.7673 - accuracy: 0.2142 - val_loss: 1.8353 - val_accuracy: 0.2533\n",
      "Epoch 212/300\n",
      "38/38 [==============================] - 0s 13ms/step - loss: 1.7727 - accuracy: 0.2125 - val_loss: 1.8816 - val_accuracy: 0.2467\n",
      "Epoch 213/300\n",
      "38/38 [==============================] - 0s 12ms/step - loss: 1.7852 - accuracy: 0.2133 - val_loss: 1.8766 - val_accuracy: 0.2500\n",
      "Epoch 214/300\n",
      "38/38 [==============================] - 0s 12ms/step - loss: 1.7778 - accuracy: 0.2142 - val_loss: 1.8381 - val_accuracy: 0.2500\n",
      "Epoch 215/300\n",
      "38/38 [==============================] - 1s 14ms/step - loss: 1.7808 - accuracy: 0.2133 - val_loss: 1.8404 - val_accuracy: 0.2533\n",
      "Epoch 216/300\n",
      "38/38 [==============================] - 0s 12ms/step - loss: 1.7761 - accuracy: 0.2142 - val_loss: 1.8657 - val_accuracy: 0.2500\n",
      "Epoch 217/300\n",
      "38/38 [==============================] - 0s 12ms/step - loss: 1.7733 - accuracy: 0.2133 - val_loss: 1.8519 - val_accuracy: 0.2533\n",
      "Epoch 218/300\n",
      "38/38 [==============================] - 0s 12ms/step - loss: 1.7726 - accuracy: 0.2133 - val_loss: 1.8614 - val_accuracy: 0.2500\n",
      "Epoch 219/300\n",
      "38/38 [==============================] - 0s 12ms/step - loss: 1.7622 - accuracy: 0.2133 - val_loss: 1.8526 - val_accuracy: 0.2500\n",
      "Epoch 220/300\n",
      "38/38 [==============================] - 0s 12ms/step - loss: 1.7614 - accuracy: 0.2133 - val_loss: 1.8519 - val_accuracy: 0.2533\n",
      "Epoch 221/300\n",
      "38/38 [==============================] - 0s 12ms/step - loss: 1.7629 - accuracy: 0.2133 - val_loss: 1.8520 - val_accuracy: 0.2500\n",
      "Epoch 222/300\n",
      "38/38 [==============================] - 1s 15ms/step - loss: 1.7616 - accuracy: 0.2142 - val_loss: 1.8523 - val_accuracy: 0.2500\n",
      "Epoch 223/300\n",
      "38/38 [==============================] - 0s 12ms/step - loss: 1.7616 - accuracy: 0.2133 - val_loss: 1.8517 - val_accuracy: 0.2500\n",
      "Epoch 224/300\n",
      "38/38 [==============================] - 0s 12ms/step - loss: 1.7612 - accuracy: 0.2133 - val_loss: 1.8524 - val_accuracy: 0.2500\n",
      "Epoch 225/300\n",
      "38/38 [==============================] - 1s 14ms/step - loss: 1.7616 - accuracy: 0.2133 - val_loss: 1.8510 - val_accuracy: 0.2533\n",
      "Epoch 226/300\n",
      "38/38 [==============================] - 0s 12ms/step - loss: 1.7710 - accuracy: 0.2117 - val_loss: 1.8464 - val_accuracy: 0.2533\n",
      "Epoch 227/300\n",
      "38/38 [==============================] - 0s 13ms/step - loss: 1.7609 - accuracy: 0.2142 - val_loss: 1.8489 - val_accuracy: 0.2500\n",
      "Epoch 228/300\n",
      "38/38 [==============================] - 0s 12ms/step - loss: 1.7609 - accuracy: 0.2125 - val_loss: 1.8416 - val_accuracy: 0.2500\n",
      "Epoch 229/300\n",
      "38/38 [==============================] - 0s 12ms/step - loss: 1.7609 - accuracy: 0.2133 - val_loss: 1.8429 - val_accuracy: 0.2533\n",
      "Epoch 230/300\n",
      "38/38 [==============================] - 0s 12ms/step - loss: 1.7652 - accuracy: 0.2125 - val_loss: 1.8550 - val_accuracy: 0.2467\n",
      "Epoch 231/300\n",
      "38/38 [==============================] - 0s 12ms/step - loss: 1.7585 - accuracy: 0.2142 - val_loss: 1.8597 - val_accuracy: 0.2533\n",
      "Epoch 232/300\n",
      "38/38 [==============================] - 0s 13ms/step - loss: 1.7600 - accuracy: 0.2142 - val_loss: 1.8615 - val_accuracy: 0.2500\n",
      "Epoch 233/300\n",
      "38/38 [==============================] - 0s 12ms/step - loss: 1.7584 - accuracy: 0.2142 - val_loss: 1.8613 - val_accuracy: 0.2500\n",
      "Epoch 234/300\n",
      "38/38 [==============================] - 0s 12ms/step - loss: 1.7581 - accuracy: 0.2142 - val_loss: 1.8615 - val_accuracy: 0.2500\n",
      "Epoch 235/300\n",
      "38/38 [==============================] - 1s 14ms/step - loss: 1.7585 - accuracy: 0.2142 - val_loss: 1.8618 - val_accuracy: 0.2500\n",
      "Epoch 236/300\n",
      "38/38 [==============================] - 0s 12ms/step - loss: 1.7582 - accuracy: 0.2142 - val_loss: 1.8612 - val_accuracy: 0.2500\n",
      "Epoch 237/300\n",
      "38/38 [==============================] - 0s 12ms/step - loss: 1.7585 - accuracy: 0.2142 - val_loss: 1.8611 - val_accuracy: 0.2500\n",
      "Epoch 238/300\n",
      "38/38 [==============================] - 1s 15ms/step - loss: 1.7587 - accuracy: 0.2142 - val_loss: 1.8618 - val_accuracy: 0.2500\n",
      "Epoch 239/300\n",
      "38/38 [==============================] - 1s 15ms/step - loss: 1.7583 - accuracy: 0.2142 - val_loss: 1.8623 - val_accuracy: 0.2500\n",
      "Epoch 240/300\n",
      "38/38 [==============================] - 0s 13ms/step - loss: 1.7584 - accuracy: 0.2142 - val_loss: 1.8622 - val_accuracy: 0.2500\n",
      "Epoch 241/300\n",
      "38/38 [==============================] - 1s 14ms/step - loss: 1.7583 - accuracy: 0.2142 - val_loss: 1.8616 - val_accuracy: 0.2500\n",
      "Epoch 242/300\n",
      "38/38 [==============================] - 1s 15ms/step - loss: 1.7582 - accuracy: 0.2142 - val_loss: 1.8618 - val_accuracy: 0.2500\n",
      "Epoch 243/300\n",
      "38/38 [==============================] - 1s 14ms/step - loss: 1.7582 - accuracy: 0.2142 - val_loss: 1.8625 - val_accuracy: 0.2500\n",
      "Epoch 244/300\n",
      "38/38 [==============================] - 0s 13ms/step - loss: 1.7583 - accuracy: 0.2142 - val_loss: 1.8611 - val_accuracy: 0.2500\n",
      "Epoch 245/300\n",
      "38/38 [==============================] - 1s 14ms/step - loss: 1.7586 - accuracy: 0.2142 - val_loss: 1.8625 - val_accuracy: 0.2500\n",
      "Epoch 246/300\n",
      "38/38 [==============================] - 1s 14ms/step - loss: 1.7583 - accuracy: 0.2142 - val_loss: 1.8620 - val_accuracy: 0.2500\n",
      "Epoch 247/300\n",
      "38/38 [==============================] - 1s 14ms/step - loss: 1.7581 - accuracy: 0.2142 - val_loss: 1.8621 - val_accuracy: 0.2500\n",
      "Epoch 248/300\n",
      "38/38 [==============================] - 1s 15ms/step - loss: 1.7556 - accuracy: 0.2142 - val_loss: 1.8620 - val_accuracy: 0.2500\n",
      "Epoch 249/300\n",
      "38/38 [==============================] - 1s 14ms/step - loss: 1.7983 - accuracy: 0.2133 - val_loss: 1.8406 - val_accuracy: 0.2500\n",
      "Epoch 250/300\n",
      "38/38 [==============================] - 1s 15ms/step - loss: 1.7711 - accuracy: 0.2142 - val_loss: 1.8500 - val_accuracy: 0.2500\n",
      "Epoch 251/300\n",
      "38/38 [==============================] - 0s 13ms/step - loss: 1.7589 - accuracy: 0.2150 - val_loss: 1.8546 - val_accuracy: 0.2500\n",
      "Epoch 252/300\n",
      "38/38 [==============================] - 0s 13ms/step - loss: 1.7586 - accuracy: 0.2133 - val_loss: 1.8776 - val_accuracy: 0.2433\n",
      "Epoch 253/300\n",
      "38/38 [==============================] - 1s 14ms/step - loss: 1.7627 - accuracy: 0.2133 - val_loss: 1.8346 - val_accuracy: 0.2500\n",
      "Epoch 254/300\n",
      "38/38 [==============================] - 1s 14ms/step - loss: 1.7679 - accuracy: 0.2150 - val_loss: 1.8325 - val_accuracy: 0.2567\n",
      "Epoch 255/300\n",
      "38/38 [==============================] - 1s 15ms/step - loss: 1.7533 - accuracy: 0.2142 - val_loss: 1.8102 - val_accuracy: 0.2567\n",
      "Epoch 256/300\n",
      "38/38 [==============================] - 0s 13ms/step - loss: 1.7441 - accuracy: 0.2142 - val_loss: 1.8036 - val_accuracy: 0.2500\n",
      "Epoch 257/300\n",
      "38/38 [==============================] - 0s 13ms/step - loss: 1.7496 - accuracy: 0.2008 - val_loss: 1.8016 - val_accuracy: 0.2533\n",
      "Epoch 258/300\n",
      "38/38 [==============================] - 1s 14ms/step - loss: 1.7502 - accuracy: 0.2142 - val_loss: 1.8054 - val_accuracy: 0.2533\n",
      "Epoch 259/300\n",
      "38/38 [==============================] - 0s 13ms/step - loss: 1.7499 - accuracy: 0.2142 - val_loss: 1.8044 - val_accuracy: 0.2533\n",
      "Epoch 260/300\n",
      "38/38 [==============================] - 0s 13ms/step - loss: 1.7498 - accuracy: 0.2142 - val_loss: 1.8055 - val_accuracy: 0.2533\n",
      "Epoch 261/300\n",
      "38/38 [==============================] - 1s 14ms/step - loss: 1.7502 - accuracy: 0.2142 - val_loss: 1.8044 - val_accuracy: 0.2533\n",
      "Epoch 262/300\n",
      "38/38 [==============================] - 0s 12ms/step - loss: 1.7494 - accuracy: 0.2142 - val_loss: 1.7965 - val_accuracy: 0.2533\n",
      "Epoch 263/300\n",
      "38/38 [==============================] - 0s 13ms/step - loss: 1.7475 - accuracy: 0.2142 - val_loss: 1.7961 - val_accuracy: 0.2533\n",
      "Epoch 264/300\n",
      "38/38 [==============================] - 0s 13ms/step - loss: 1.7474 - accuracy: 0.1958 - val_loss: 1.8074 - val_accuracy: 0.2500\n",
      "Epoch 265/300\n",
      "38/38 [==============================] - 0s 12ms/step - loss: 1.7401 - accuracy: 0.2150 - val_loss: 1.8250 - val_accuracy: 0.2500\n",
      "Epoch 266/300\n",
      "38/38 [==============================] - 0s 12ms/step - loss: 1.7404 - accuracy: 0.2133 - val_loss: 1.8327 - val_accuracy: 0.2467\n",
      "Epoch 267/300\n",
      "38/38 [==============================] - 0s 12ms/step - loss: 1.7423 - accuracy: 0.2125 - val_loss: 1.8062 - val_accuracy: 0.2500\n",
      "Epoch 268/300\n",
      "38/38 [==============================] - 0s 11ms/step - loss: 1.7418 - accuracy: 0.2133 - val_loss: 1.8315 - val_accuracy: 0.2467\n",
      "Epoch 269/300\n",
      "38/38 [==============================] - 0s 11ms/step - loss: 1.7403 - accuracy: 0.2133 - val_loss: 1.8122 - val_accuracy: 0.2500\n",
      "Epoch 270/300\n",
      "38/38 [==============================] - 0s 12ms/step - loss: 1.7540 - accuracy: 0.2017 - val_loss: 1.8561 - val_accuracy: 0.2467\n",
      "Epoch 271/300\n",
      "38/38 [==============================] - 0s 12ms/step - loss: 1.7552 - accuracy: 0.2100 - val_loss: 1.8234 - val_accuracy: 0.2533\n",
      "Epoch 272/300\n",
      "38/38 [==============================] - 0s 13ms/step - loss: 1.7420 - accuracy: 0.2142 - val_loss: 1.8285 - val_accuracy: 0.2533\n",
      "Epoch 273/300\n",
      "38/38 [==============================] - 0s 12ms/step - loss: 1.7421 - accuracy: 0.2142 - val_loss: 1.8106 - val_accuracy: 0.2533\n",
      "Epoch 274/300\n",
      "38/38 [==============================] - 0s 13ms/step - loss: 1.7396 - accuracy: 0.2142 - val_loss: 1.8124 - val_accuracy: 0.2533\n",
      "Epoch 275/300\n",
      "38/38 [==============================] - 0s 13ms/step - loss: 1.7423 - accuracy: 0.2133 - val_loss: 1.8112 - val_accuracy: 0.2533\n",
      "Epoch 276/300\n",
      "38/38 [==============================] - 0s 12ms/step - loss: 1.7395 - accuracy: 0.2142 - val_loss: 1.8122 - val_accuracy: 0.2533\n",
      "Epoch 277/300\n",
      "38/38 [==============================] - 0s 12ms/step - loss: 1.7395 - accuracy: 0.2142 - val_loss: 1.8119 - val_accuracy: 0.2533\n",
      "Epoch 278/300\n",
      "38/38 [==============================] - 0s 11ms/step - loss: 1.7402 - accuracy: 0.2142 - val_loss: 1.8116 - val_accuracy: 0.2533\n",
      "Epoch 279/300\n",
      "38/38 [==============================] - 0s 12ms/step - loss: 1.7397 - accuracy: 0.2142 - val_loss: 1.8121 - val_accuracy: 0.2533\n",
      "Epoch 280/300\n",
      "38/38 [==============================] - 0s 11ms/step - loss: 1.7397 - accuracy: 0.2142 - val_loss: 1.8122 - val_accuracy: 0.2533\n",
      "Epoch 281/300\n",
      "38/38 [==============================] - 0s 12ms/step - loss: 1.7396 - accuracy: 0.2142 - val_loss: 1.8136 - val_accuracy: 0.2533\n",
      "Epoch 282/300\n",
      "38/38 [==============================] - 0s 12ms/step - loss: 1.7442 - accuracy: 0.2133 - val_loss: 1.8721 - val_accuracy: 0.2533\n",
      "Epoch 283/300\n",
      "38/38 [==============================] - 0s 12ms/step - loss: 1.7623 - accuracy: 0.2100 - val_loss: 1.8373 - val_accuracy: 0.2433\n",
      "Epoch 284/300\n",
      "38/38 [==============================] - 0s 12ms/step - loss: 1.7847 - accuracy: 0.2100 - val_loss: 1.8522 - val_accuracy: 0.2433\n",
      "Epoch 285/300\n",
      "38/38 [==============================] - 0s 13ms/step - loss: 1.7760 - accuracy: 0.2150 - val_loss: 1.8989 - val_accuracy: 0.2500\n",
      "Epoch 286/300\n",
      "38/38 [==============================] - 0s 12ms/step - loss: 1.7593 - accuracy: 0.2150 - val_loss: 1.8138 - val_accuracy: 0.2533\n",
      "Epoch 287/300\n",
      "38/38 [==============================] - 0s 11ms/step - loss: 1.7416 - accuracy: 0.2142 - val_loss: 1.8469 - val_accuracy: 0.2467\n",
      "Epoch 288/300\n",
      "38/38 [==============================] - 0s 12ms/step - loss: 1.7412 - accuracy: 0.2150 - val_loss: 1.8474 - val_accuracy: 0.2467\n",
      "Epoch 289/300\n",
      "38/38 [==============================] - 0s 12ms/step - loss: 1.7367 - accuracy: 0.2142 - val_loss: 1.8611 - val_accuracy: 0.2500\n",
      "Epoch 290/300\n",
      "38/38 [==============================] - 0s 12ms/step - loss: 1.7519 - accuracy: 0.2125 - val_loss: 1.9482 - val_accuracy: 0.2433\n",
      "Epoch 291/300\n",
      "38/38 [==============================] - 0s 13ms/step - loss: 1.7750 - accuracy: 0.2125 - val_loss: 1.8352 - val_accuracy: 0.2467\n",
      "Epoch 292/300\n",
      "38/38 [==============================] - 0s 12ms/step - loss: 1.7382 - accuracy: 0.2150 - val_loss: 1.8292 - val_accuracy: 0.2533\n",
      "Epoch 293/300\n",
      "38/38 [==============================] - 0s 11ms/step - loss: 1.7490 - accuracy: 0.2150 - val_loss: 1.8349 - val_accuracy: 0.2533\n",
      "Epoch 294/300\n",
      "38/38 [==============================] - 0s 11ms/step - loss: 1.7416 - accuracy: 0.2150 - val_loss: 1.8603 - val_accuracy: 0.2467\n",
      "Epoch 295/300\n",
      "38/38 [==============================] - 0s 12ms/step - loss: 1.7375 - accuracy: 0.2083 - val_loss: 1.8604 - val_accuracy: 0.2467\n",
      "Epoch 296/300\n",
      "38/38 [==============================] - 0s 11ms/step - loss: 1.7377 - accuracy: 0.2150 - val_loss: 1.8595 - val_accuracy: 0.2467\n",
      "Epoch 297/300\n",
      "38/38 [==============================] - 0s 12ms/step - loss: 1.7374 - accuracy: 0.2150 - val_loss: 1.8611 - val_accuracy: 0.2467\n",
      "Epoch 298/300\n",
      "38/38 [==============================] - 0s 11ms/step - loss: 1.7397 - accuracy: 0.2142 - val_loss: 1.8613 - val_accuracy: 0.2467\n",
      "Epoch 299/300\n",
      "38/38 [==============================] - 0s 12ms/step - loss: 1.7396 - accuracy: 0.2142 - val_loss: 1.8608 - val_accuracy: 0.2467\n",
      "Epoch 300/300\n",
      "38/38 [==============================] - 0s 12ms/step - loss: 1.7420 - accuracy: 0.2133 - val_loss: 1.8560 - val_accuracy: 0.2500\n"
     ]
    },
    {
     "data": {
      "text/plain": [
       "<keras.src.callbacks.History at 0x7f3801d56550>"
      ]
     },
     "execution_count": 12,
     "metadata": {},
     "output_type": "execute_result"
    }
   ],
   "source": [
    "model = get_model(num_hidden_layers=10, activation=\"sigmoid\")\n",
    "!rm -rf log/sigmoid_longrun\n",
    "tb_callback = keras.callbacks.TensorBoard(log_dir='./log/sigmoid_longrun', histogram_freq=1, write_graph=True, write_images=True)\n",
    "model.fit(X_train, y_train_oh, epochs=300, batch_size=32, validation_data=(X_test, y_test_oh), callbacks=[tb_callback])"
   ]
  },
  {
   "cell_type": "markdown",
   "metadata": {
    "colab_type": "text",
    "id": "o1fZyFIGUH-c"
   },
   "source": [
    "## Experiment observations\n",
    "\n",
    "- What is the distribution of the gradients observed as we move from the output layer to the input layer for each experiment? \n",
    "\n",
    "- Might need to run for [Tensorboard](http://localhost:6006) to run:\n",
    "\n",
    "      pip install --upgrade grpcio\n",
    "\n",
    "- Look in [Tensorboard](http://localhost:6006) at distributions or histograms charts named `Layer_00_Input/kernel_0_grad`, `Layer_01_Hidden/kernel_0_grad`, etc. for different layers. You should see:\n",
    "    - Gradients are usually higher at the output layer and tend to decrease as you move backwards in the network.\n",
    "    - With sigmoid activations gradients are always low and rapidly decay from the output layer all the way to the input layer.\n",
    "    - Relu might still have some vanishing gradient when weights are <0.\n",
    "    - Leaky Relu would probably have constant gradients across layers.\n",
    "    \n",
    "\n",
    "- Recall that, in the backpropagation algorithm, the gradient of the loss function $L$ with respect to the weights at a certain layer $W_l$ is proportional to the derivatives and the weights of previous layers:\n",
    "\n",
    "$$\\frac{\\partial L}{\\partial W_l} \\propto f'(z^{(l)})\\cdot W_l \\cdot f'(z^{(l+1)})\\cdot W_{l+1} \\cdot f'(z^{(l+2)})\\cdot W_{l+2}...$$\n",
    "\n",
    "where $f'$ is the derivative of the activation function and $z^{(l)}$ is the output at layer $l$.\n",
    "\n",
    "- Do you think the sigmoid longrun would reach levels comparable to Relu or Leaky Relu? At what computational cost?\n"
   ]
  },
  {
   "cell_type": "markdown",
   "metadata": {
    "colab_type": "text",
    "id": "KU8T3tlAUcic"
   },
   "source": [
    "\n",
    "\n",
    "## Tensorboard in Colab\n"
   ]
  },
  {
   "cell_type": "code",
   "execution_count": 13,
   "metadata": {
    "colab": {},
    "colab_type": "code",
    "id": "zaw6jxz7UH-d"
   },
   "outputs": [
    {
     "data": {
      "text/html": [
       "\n",
       "      <iframe id=\"tensorboard-frame-e1a0de510cbe0153\" width=\"100%\" height=\"800\" frameborder=\"0\">\n",
       "      </iframe>\n",
       "      <script>\n",
       "        (function() {\n",
       "          const frame = document.getElementById(\"tensorboard-frame-e1a0de510cbe0153\");\n",
       "          const url = new URL(\"/\", window.location);\n",
       "          const port = 6007;\n",
       "          if (port) {\n",
       "            url.port = port;\n",
       "          }\n",
       "          frame.src = url;\n",
       "        })();\n",
       "      </script>\n",
       "    "
      ],
      "text/plain": [
       "<IPython.core.display.HTML object>"
      ]
     },
     "metadata": {},
     "output_type": "display_data"
    }
   ],
   "source": [
    "try:\n",
    "    %load_ext tensorboard\n",
    "    %tensorboard --logdir log\n",
    "\n",
    "except:\n",
    "    print (\"not in colab\")"
   ]
  },
  {
   "cell_type": "markdown",
   "metadata": {},
   "source": [
    "## **En vscode o jupyter notebook**"
   ]
  },
  {
   "cell_type": "code",
   "execution_count": 14,
   "metadata": {},
   "outputs": [
    {
     "data": {
      "text/html": [
       "\n",
       "      <iframe id=\"tensorboard-frame-cd28e7f29cc166fb\" width=\"100%\" height=\"800\" frameborder=\"0\">\n",
       "      </iframe>\n",
       "      <script>\n",
       "        (function() {\n",
       "          const frame = document.getElementById(\"tensorboard-frame-cd28e7f29cc166fb\");\n",
       "          const url = new URL(\"/\", window.location);\n",
       "          const port = 6008;\n",
       "          if (port) {\n",
       "            url.port = port;\n",
       "          }\n",
       "          frame.src = url;\n",
       "        })();\n",
       "      </script>\n",
       "    "
      ],
      "text/plain": [
       "<IPython.core.display.HTML object>"
      ]
     },
     "metadata": {},
     "output_type": "display_data"
    }
   ],
   "source": [
    "%tensorboard --logdir logs"
   ]
  }
 ],
 "metadata": {
  "colab": {
   "collapsed_sections": [],
   "name": "U2.07 - Vanishing gradients.ipynb",
   "provenance": []
  },
  "kernelspec": {
   "display_name": "Python 3",
   "language": "python",
   "name": "python3"
  },
  "language_info": {
   "codemirror_mode": {
    "name": "ipython",
    "version": 3
   },
   "file_extension": ".py",
   "mimetype": "text/x-python",
   "name": "python",
   "nbconvert_exporter": "python",
   "pygments_lexer": "ipython3",
   "version": "3.11.5"
  }
 },
 "nbformat": 4,
 "nbformat_minor": 1
}
