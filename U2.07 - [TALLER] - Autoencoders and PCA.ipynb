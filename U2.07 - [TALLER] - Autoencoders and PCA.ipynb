{
 "cells": [
  {
   "cell_type": "markdown",
   "metadata": {},
   "source": [
    "<a href=\"https://colab.research.google.com/github/acubillosunal/UBM-DEEP-LEARNING-1/blob/main/U2.07%20-%20%5BTALLER%20OPCIONAL%5D%20-%20Autoencoders%20and%20PCA.ipynb\" target=\"_parent\"><img src=\"https://colab.research.google.com/assets/colab-badge.svg\" alt=\"Open In Colab\"/></a>\n",
    "\n",
    "\n",
    "**Recuerda que una vez abierto, Da clic en \"Copiar en Drive\", de lo contrario no podras almancenar tu progreso**\n",
    "\n",
    "Nota: no olvide ir ejecutando las celdas de código de arriba hacia abajo para que no tenga errores de importación de librerías o por falta de definición de variables.\n",
    "\n"
   ]
  },
  {
   "cell_type": "code",
   "execution_count": 1,
   "metadata": {},
   "outputs": [],
   "source": [
    "!wget --no-cache -O init.py -q https://raw.githubusercontent.com/acubillosunal/UBM-DEEP-LEARNING-1/main/init.py\n",
    "import init; init.init(force_download=False); "
   ]
  },
  {
   "cell_type": "markdown",
   "metadata": {},
   "source": [
    "## Autoencoders and PCA\n",
    "\n",
    "**Principal Component Analysis** is a specific kind of dimensionality reduction technique. Review [this example](https://scikit-learn.org/stable/auto_examples/decomposition/plot_pca_iris.html) to get acquainted with PCA as implemented by `scikit-learn`.\n",
    "\n",
    "\n",
    "**Linear Autoencoders** are strongly related to PCA. See the notes [here](https://medium.com/analytics-vidhya/journey-from-principle-component-analysis-to-autoencoders-e60d066f191a) and [here](https://www.cs.toronto.edu/~urtasun/courses/CSC411/14_pca.pdf). In some way, an autoencoder can be viewed as a generalization of PCA when using other activation functions and deeper architectures.\n",
    "\n",
    "\n",
    "In this lab **you will have to do two things**:\n",
    "\n",
    "- Explain in your own terms (and math) why PCAs are so strongly related to a Linear Autoencoder. Include a reasoning of why _linear_ and not other kind of autoencoder.\n",
    "\n",
    "- Build an example with actual data showing this equivalence. You may use the dataset of **eigenfaces** referred two in the noted linked above, or another dataset of your choice.\n"
   ]
  },
  {
   "cell_type": "code",
   "execution_count": null,
   "metadata": {},
   "outputs": [],
   "source": []
  }
 ],
 "metadata": {
  "kernelspec": {
   "display_name": "base",
   "language": "python",
   "name": "python3"
  },
  "language_info": {
   "codemirror_mode": {
    "name": "ipython",
    "version": 3
   },
   "file_extension": ".py",
   "mimetype": "text/x-python",
   "name": "python",
   "nbconvert_exporter": "python",
   "pygments_lexer": "ipython3",
   "version": "3.11.5"
  }
 },
 "nbformat": 4,
 "nbformat_minor": 2
}
