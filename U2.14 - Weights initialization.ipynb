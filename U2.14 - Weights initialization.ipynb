{
 "cells": [
  {
   "cell_type": "markdown",
   "metadata": {},
   "source": [
    "# Weight initialization\n",
    "\n",
    "## follow the explanation here\n",
    "\n",
    "https://adventuresinmachinelearning.com/weight-initialization-tutorial-tensorflow/\n"
   ]
  },
  {
   "cell_type": "code",
   "execution_count": 1,
   "metadata": {},
   "outputs": [],
   "source": [
    "!wget --no-cache -O init.py -q https://raw.githubusercontent.com/acubillosunal/UBM-DEEP-LEARNING-1/main/init.py\n",
    "import init; init.init(force_download=False); "
   ]
  },
  {
   "cell_type": "code",
   "execution_count": 2,
   "metadata": {},
   "outputs": [
    {
     "name": "stderr",
     "output_type": "stream",
     "text": [
      "2024-03-22 12:37:50.190351: I external/local_tsl/tsl/cuda/cudart_stub.cc:31] Could not find cuda drivers on your machine, GPU will not be used.\n",
      "2024-03-22 12:37:50.247070: E external/local_xla/xla/stream_executor/cuda/cuda_dnn.cc:9261] Unable to register cuDNN factory: Attempting to register factory for plugin cuDNN when one has already been registered\n",
      "2024-03-22 12:37:50.247100: E external/local_xla/xla/stream_executor/cuda/cuda_fft.cc:607] Unable to register cuFFT factory: Attempting to register factory for plugin cuFFT when one has already been registered\n",
      "2024-03-22 12:37:50.249469: E external/local_xla/xla/stream_executor/cuda/cuda_blas.cc:1515] Unable to register cuBLAS factory: Attempting to register factory for plugin cuBLAS when one has already been registered\n",
      "2024-03-22 12:37:50.262545: I external/local_tsl/tsl/cuda/cudart_stub.cc:31] Could not find cuda drivers on your machine, GPU will not be used.\n",
      "2024-03-22 12:37:50.262957: I tensorflow/core/platform/cpu_feature_guard.cc:182] This TensorFlow binary is optimized to use available CPU instructions in performance-critical operations.\n",
      "To enable the following instructions: AVX2 FMA, in other operations, rebuild TensorFlow with the appropriate compiler flags.\n",
      "2024-03-22 12:37:51.601889: W tensorflow/compiler/tf2tensorrt/utils/py_utils.cc:38] TF-TRT Warning: Could not find TensorRT\n"
     ]
    },
    {
     "data": {
      "text/plain": [
       "'2.15.0'"
      ]
     },
     "execution_count": 2,
     "metadata": {},
     "output_type": "execute_result"
    }
   ],
   "source": [
    "import sys\n",
    "if 'google.colab' in sys.modules:\n",
    "    print (\"setting tensorflow version in colab\")\n",
    "    %tensorflow_version 2.x\n",
    "import tensorflow as tf\n",
    "tf.__version__"
   ]
  },
  {
   "cell_type": "code",
   "execution_count": 3,
   "metadata": {},
   "outputs": [],
   "source": [
    "import numpy as np\n",
    "import matplotlib.pyplot as plt\n",
    "import pandas as pd\n",
    "from IPython.display import Image\n",
    "%matplotlib inline"
   ]
  },
  {
   "cell_type": "code",
   "execution_count": 4,
   "metadata": {},
   "outputs": [
    {
     "name": "stdout",
     "output_type": "stream",
     "text": [
      "dimension de las imagenes y las clases (1500, 784) (1500,)\n",
      "(1200, 784) (1200, 10)\n"
     ]
    }
   ],
   "source": [
    "mnist = pd.read_csv(\"local/data/mnist1.5k.csv.gz\", compression=\"gzip\", header=None).values\n",
    "X=mnist[:,1:785]/255.\n",
    "y=mnist[:,0]\n",
    "print(\"dimension de las imagenes y las clases\", X.shape, y.shape)\n",
    "\n",
    "from sklearn.model_selection import train_test_split\n",
    "X_train, X_test, y_train, y_test = train_test_split(X, y, test_size=.2)\n",
    "X_train = X_train\n",
    "X_test  = X_test\n",
    "y_train_oh = np.eye(10)[y_train]\n",
    "y_test_oh  = np.eye(10)[y_test]\n",
    "print(X_train.shape, y_train_oh.shape)"
   ]
  },
  {
   "cell_type": "markdown",
   "metadata": {},
   "source": [
    "# load data and train a simple model"
   ]
  },
  {
   "cell_type": "code",
   "execution_count": 5,
   "metadata": {},
   "outputs": [],
   "source": [
    "from tensorflow.keras import Sequential, Model\n",
    "from tensorflow.keras.layers import Dense, Dropout, Flatten, concatenate, Input\n",
    "from tensorflow.keras.backend import clear_session\n",
    "from tensorflow import keras\n",
    "import tensorflow as tf\n",
    "import tensorflow.keras.backend as K\n",
    "tf.keras.backend.set_floatx('float32')"
   ]
  },
  {
   "cell_type": "code",
   "execution_count": 6,
   "metadata": {},
   "outputs": [],
   "source": [
    "def get_model(input_dim=784, output_dim=10, layer_sizes=[10]*6, activation=\"relu\", sigma=1):\n",
    "    \n",
    "    model = Sequential()\n",
    "    init1k = keras.initializers.RandomNormal(mean=.0, stddev=sigma, seed=None)\n",
    "    init1b = keras.initializers.RandomNormal(mean=.0, stddev=sigma, seed=None)\n",
    "\n",
    "    model.add(Dense(layer_sizes[0], activation=activation, input_dim=input_dim, name=\"Layer_%02d_Input\"%(0),\n",
    "                    kernel_initializer=init1k,\n",
    "                    bias_initializer=init1b,\n",
    "                    dtype=tf.float64\n",
    "                ))\n",
    "\n",
    "   \n",
    "    for i, hsize in enumerate(layer_sizes[1:]):\n",
    "        model.add(Dense(hsize, activation=activation, name=\"Layer_%02d_Hidden\"%(i+1), dtype=tf.float64))\n",
    "   \n",
    "    model.add(Dense(output_dim, activation=\"softmax\", name=\"Layer_%02d_Output\"%(len(layer_sizes)), dtype=tf.float64))\n",
    "        \n",
    "    model.compile(optimizer='adam', loss='categorical_crossentropy', metrics=['accuracy'])\n",
    "    model.reset_states()\n",
    "    return model\n",
    "\n",
    "def get_gradients_functions(model):\n",
    "    T_input     = model.input                                        \n",
    "    T_outputs   = [layer.output for layer in model.layers]         \n",
    "    T_weights   = model.trainable_weights\n",
    "    T_outputs   = [layer.output for layer in model.layers]\n",
    "\n",
    "    F_outputs   = [K.function([T_input], [out]) for out in T_outputs]    \n",
    "\n",
    "    def get_gradients_functions(model):\n",
    "        r = []\n",
    "        for i in range(len(model.trainable_variables)):\n",
    "            def f(X,y,i=eval(\"i\")):\n",
    "                v = model.trainable_variables[i]\n",
    "                with tf.GradientTape(persistent=True) as t:\n",
    "                    loss = model.loss_functions[0]( model(X), y)\n",
    "                return t.gradient(loss,v).numpy()\n",
    "            r.append(f)\n",
    "        return r\n",
    "\n",
    "    F_gradients = get_gradients_functions(model)\n",
    "\n",
    "    return T_input, T_outputs, T_weights, F_outputs, F_gradients"
   ]
  },
  {
   "cell_type": "code",
   "execution_count": 7,
   "metadata": {},
   "outputs": [
    {
     "name": "stdout",
     "output_type": "stream",
     "text": [
      "Model: \"sequential\"\n",
      "_________________________________________________________________\n",
      " Layer (type)                Output Shape              Param #   \n",
      "=================================================================\n",
      " Layer_00_Input (Dense)      (None, 20)                15700     \n",
      "                                                                 \n",
      " Layer_01_Hidden (Dense)     (None, 15)                315       \n",
      "                                                                 \n",
      " Layer_02_Hidden (Dense)     (None, 15)                240       \n",
      "                                                                 \n",
      " Layer_03_Output (Dense)     (None, 10)                160       \n",
      "                                                                 \n",
      "=================================================================\n",
      "Total params: 16415 (128.24 KB)\n",
      "Trainable params: 16415 (128.24 KB)\n",
      "Non-trainable params: 0 (0.00 Byte)\n",
      "_________________________________________________________________\n"
     ]
    },
    {
     "name": "stderr",
     "output_type": "stream",
     "text": [
      "2024-03-22 13:07:42.787808: I external/local_xla/xla/stream_executor/cuda/cuda_executor.cc:901] successful NUMA node read from SysFS had negative value (-1), but there must be at least one NUMA node, so returning NUMA node zero. See more at https://github.com/torvalds/linux/blob/v6.0/Documentation/ABI/testing/sysfs-bus-pci#L344-L355\n",
      "2024-03-22 13:07:42.788833: W tensorflow/core/common_runtime/gpu/gpu_device.cc:2256] Cannot dlopen some GPU libraries. Please make sure the missing libraries mentioned above are installed properly if you would like to use GPU. Follow the guide at https://www.tensorflow.org/install/gpu for how to download and setup the required libraries for your platform.\n",
      "Skipping registering GPU devices...\n"
     ]
    }
   ],
   "source": [
    "model = get_model(layer_sizes=[20,15,15], activation=\"sigmoid\", sigma=20)\n",
    "model.summary()"
   ]
  },
  {
   "cell_type": "code",
   "execution_count": 8,
   "metadata": {},
   "outputs": [],
   "source": [
    "T_input, T_outputs, T_weights, F_outputs, F_gradients = get_gradients_functions(model)"
   ]
  },
  {
   "cell_type": "code",
   "execution_count": 9,
   "metadata": {},
   "outputs": [
    {
     "data": {
      "text/plain": [
       "[<KerasTensor: shape=(None, 20) dtype=float64 (created by layer 'Layer_00_Input')>,\n",
       " <KerasTensor: shape=(None, 15) dtype=float64 (created by layer 'Layer_01_Hidden')>,\n",
       " <KerasTensor: shape=(None, 15) dtype=float64 (created by layer 'Layer_02_Hidden')>,\n",
       " <KerasTensor: shape=(None, 10) dtype=float64 (created by layer 'Layer_03_Output')>]"
      ]
     },
     "execution_count": 9,
     "metadata": {},
     "output_type": "execute_result"
    }
   ],
   "source": [
    "T_outputs"
   ]
  },
  {
   "cell_type": "code",
   "execution_count": 10,
   "metadata": {},
   "outputs": [
    {
     "data": {
      "text/plain": [
       "{'name': 'sequential',\n",
       " 'layers': [{'module': 'keras.layers',\n",
       "   'class_name': 'InputLayer',\n",
       "   'config': {'batch_input_shape': (None, 784),\n",
       "    'dtype': 'float64',\n",
       "    'sparse': False,\n",
       "    'ragged': False,\n",
       "    'name': 'Layer_00_Input_input'},\n",
       "   'registered_name': None},\n",
       "  {'module': 'keras.layers',\n",
       "   'class_name': 'Dense',\n",
       "   'config': {'name': 'Layer_00_Input',\n",
       "    'trainable': True,\n",
       "    'dtype': 'float64',\n",
       "    'batch_input_shape': (None, 784),\n",
       "    'units': 20,\n",
       "    'activation': 'sigmoid',\n",
       "    'use_bias': True,\n",
       "    'kernel_initializer': {'module': 'keras.initializers',\n",
       "     'class_name': 'RandomNormal',\n",
       "     'config': {'mean': 0.0, 'stddev': 20, 'seed': None},\n",
       "     'registered_name': None},\n",
       "    'bias_initializer': {'module': 'keras.initializers',\n",
       "     'class_name': 'RandomNormal',\n",
       "     'config': {'mean': 0.0, 'stddev': 20, 'seed': None},\n",
       "     'registered_name': None},\n",
       "    'kernel_regularizer': None,\n",
       "    'bias_regularizer': None,\n",
       "    'activity_regularizer': None,\n",
       "    'kernel_constraint': None,\n",
       "    'bias_constraint': None},\n",
       "   'registered_name': None,\n",
       "   'build_config': {'input_shape': (None, 784)}},\n",
       "  {'module': 'keras.layers',\n",
       "   'class_name': 'Dense',\n",
       "   'config': {'name': 'Layer_01_Hidden',\n",
       "    'trainable': True,\n",
       "    'dtype': 'float64',\n",
       "    'units': 15,\n",
       "    'activation': 'sigmoid',\n",
       "    'use_bias': True,\n",
       "    'kernel_initializer': {'module': 'keras.initializers',\n",
       "     'class_name': 'GlorotUniform',\n",
       "     'config': {'seed': None},\n",
       "     'registered_name': None},\n",
       "    'bias_initializer': {'module': 'keras.initializers',\n",
       "     'class_name': 'Zeros',\n",
       "     'config': {},\n",
       "     'registered_name': None},\n",
       "    'kernel_regularizer': None,\n",
       "    'bias_regularizer': None,\n",
       "    'activity_regularizer': None,\n",
       "    'kernel_constraint': None,\n",
       "    'bias_constraint': None},\n",
       "   'registered_name': None,\n",
       "   'build_config': {'input_shape': (None, 20)}},\n",
       "  {'module': 'keras.layers',\n",
       "   'class_name': 'Dense',\n",
       "   'config': {'name': 'Layer_02_Hidden',\n",
       "    'trainable': True,\n",
       "    'dtype': 'float64',\n",
       "    'units': 15,\n",
       "    'activation': 'sigmoid',\n",
       "    'use_bias': True,\n",
       "    'kernel_initializer': {'module': 'keras.initializers',\n",
       "     'class_name': 'GlorotUniform',\n",
       "     'config': {'seed': None},\n",
       "     'registered_name': None},\n",
       "    'bias_initializer': {'module': 'keras.initializers',\n",
       "     'class_name': 'Zeros',\n",
       "     'config': {},\n",
       "     'registered_name': None},\n",
       "    'kernel_regularizer': None,\n",
       "    'bias_regularizer': None,\n",
       "    'activity_regularizer': None,\n",
       "    'kernel_constraint': None,\n",
       "    'bias_constraint': None},\n",
       "   'registered_name': None,\n",
       "   'build_config': {'input_shape': (None, 15)}},\n",
       "  {'module': 'keras.layers',\n",
       "   'class_name': 'Dense',\n",
       "   'config': {'name': 'Layer_03_Output',\n",
       "    'trainable': True,\n",
       "    'dtype': 'float64',\n",
       "    'units': 10,\n",
       "    'activation': 'softmax',\n",
       "    'use_bias': True,\n",
       "    'kernel_initializer': {'module': 'keras.initializers',\n",
       "     'class_name': 'GlorotUniform',\n",
       "     'config': {'seed': None},\n",
       "     'registered_name': None},\n",
       "    'bias_initializer': {'module': 'keras.initializers',\n",
       "     'class_name': 'Zeros',\n",
       "     'config': {},\n",
       "     'registered_name': None},\n",
       "    'kernel_regularizer': None,\n",
       "    'bias_regularizer': None,\n",
       "    'activity_regularizer': None,\n",
       "    'kernel_constraint': None,\n",
       "    'bias_constraint': None},\n",
       "   'registered_name': None,\n",
       "   'build_config': {'input_shape': (None, 15)}}]}"
      ]
     },
     "execution_count": 10,
     "metadata": {},
     "output_type": "execute_result"
    }
   ],
   "source": [
    "model.get_config()"
   ]
  },
  {
   "cell_type": "code",
   "execution_count": 11,
   "metadata": {},
   "outputs": [],
   "source": [
    "T_input, T_outputs, T_weights, F_outputs, F_gradients = get_gradients_functions(model)"
   ]
  },
  {
   "cell_type": "code",
   "execution_count": 12,
   "metadata": {
    "scrolled": true
   },
   "outputs": [
    {
     "name": "stdout",
     "output_type": "stream",
     "text": [
      "WARNING:tensorflow:`write_grads` will be ignored in TensorFlow 2.0 for the `TensorBoard` Callback.\n",
      "Epoch 1/30\n",
      "38/38 [==============================] - 2s 9ms/step - loss: 2.3741 - accuracy: 0.0992 - val_loss: 2.3699 - val_accuracy: 0.0733\n",
      "Epoch 2/30\n",
      "38/38 [==============================] - 0s 3ms/step - loss: 2.3239 - accuracy: 0.0992 - val_loss: 2.3255 - val_accuracy: 0.1167\n",
      "Epoch 3/30\n",
      "38/38 [==============================] - 0s 3ms/step - loss: 2.3024 - accuracy: 0.1250 - val_loss: 2.3084 - val_accuracy: 0.1167\n",
      "Epoch 4/30\n",
      "38/38 [==============================] - 0s 5ms/step - loss: 2.2922 - accuracy: 0.1258 - val_loss: 2.2977 - val_accuracy: 0.1167\n",
      "Epoch 5/30\n",
      "38/38 [==============================] - 0s 3ms/step - loss: 2.2856 - accuracy: 0.1300 - val_loss: 2.2912 - val_accuracy: 0.1300\n",
      "Epoch 6/30\n",
      "38/38 [==============================] - 0s 3ms/step - loss: 2.2804 - accuracy: 0.1333 - val_loss: 2.2865 - val_accuracy: 0.1433\n",
      "Epoch 7/30\n",
      "38/38 [==============================] - 0s 3ms/step - loss: 2.2746 - accuracy: 0.1725 - val_loss: 2.2807 - val_accuracy: 0.1433\n",
      "Epoch 8/30\n",
      "38/38 [==============================] - 0s 4ms/step - loss: 2.2679 - accuracy: 0.1900 - val_loss: 2.2739 - val_accuracy: 0.1767\n",
      "Epoch 9/30\n",
      "38/38 [==============================] - 0s 4ms/step - loss: 2.2607 - accuracy: 0.1833 - val_loss: 2.2682 - val_accuracy: 0.1800\n",
      "Epoch 10/30\n",
      "38/38 [==============================] - 0s 3ms/step - loss: 2.2510 - accuracy: 0.1967 - val_loss: 2.2590 - val_accuracy: 0.1733\n",
      "Epoch 11/30\n",
      "38/38 [==============================] - 0s 3ms/step - loss: 2.2420 - accuracy: 0.1975 - val_loss: 2.2512 - val_accuracy: 0.1733\n",
      "Epoch 12/30\n",
      "38/38 [==============================] - 0s 4ms/step - loss: 2.2289 - accuracy: 0.1983 - val_loss: 2.2397 - val_accuracy: 0.1767\n",
      "Epoch 13/30\n",
      "38/38 [==============================] - 0s 3ms/step - loss: 2.2158 - accuracy: 0.1983 - val_loss: 2.2285 - val_accuracy: 0.1767\n",
      "Epoch 14/30\n",
      "38/38 [==============================] - 0s 5ms/step - loss: 2.2016 - accuracy: 0.2000 - val_loss: 2.2157 - val_accuracy: 0.1767\n",
      "Epoch 15/30\n",
      "38/38 [==============================] - 0s 4ms/step - loss: 2.1866 - accuracy: 0.2017 - val_loss: 2.2025 - val_accuracy: 0.1767\n",
      "Epoch 16/30\n",
      "38/38 [==============================] - 0s 4ms/step - loss: 2.1708 - accuracy: 0.2042 - val_loss: 2.1876 - val_accuracy: 0.1800\n",
      "Epoch 17/30\n",
      "38/38 [==============================] - 0s 4ms/step - loss: 2.1542 - accuracy: 0.2058 - val_loss: 2.1738 - val_accuracy: 0.1733\n",
      "Epoch 18/30\n",
      "38/38 [==============================] - 0s 4ms/step - loss: 2.1358 - accuracy: 0.2067 - val_loss: 2.1565 - val_accuracy: 0.1833\n",
      "Epoch 19/30\n",
      "38/38 [==============================] - 0s 4ms/step - loss: 2.1189 - accuracy: 0.2183 - val_loss: 2.1413 - val_accuracy: 0.1867\n",
      "Epoch 20/30\n",
      "38/38 [==============================] - 0s 4ms/step - loss: 2.1024 - accuracy: 0.2258 - val_loss: 2.1293 - val_accuracy: 0.2033\n",
      "Epoch 21/30\n",
      "38/38 [==============================] - 0s 3ms/step - loss: 2.0858 - accuracy: 0.2217 - val_loss: 2.1145 - val_accuracy: 0.2067\n",
      "Epoch 22/30\n",
      "38/38 [==============================] - 0s 3ms/step - loss: 2.0687 - accuracy: 0.2567 - val_loss: 2.1000 - val_accuracy: 0.2267\n",
      "Epoch 23/30\n",
      "38/38 [==============================] - 0s 3ms/step - loss: 2.0524 - accuracy: 0.2617 - val_loss: 2.0862 - val_accuracy: 0.2367\n",
      "Epoch 24/30\n",
      "38/38 [==============================] - 0s 3ms/step - loss: 2.0360 - accuracy: 0.2725 - val_loss: 2.0731 - val_accuracy: 0.2633\n",
      "Epoch 25/30\n",
      "38/38 [==============================] - 0s 3ms/step - loss: 2.0216 - accuracy: 0.2717 - val_loss: 2.0591 - val_accuracy: 0.2700\n",
      "Epoch 26/30\n",
      "38/38 [==============================] - 0s 3ms/step - loss: 2.0056 - accuracy: 0.3083 - val_loss: 2.0478 - val_accuracy: 0.2833\n",
      "Epoch 27/30\n",
      "38/38 [==============================] - 0s 3ms/step - loss: 1.9917 - accuracy: 0.3242 - val_loss: 2.0373 - val_accuracy: 0.2833\n",
      "Epoch 28/30\n",
      "38/38 [==============================] - 0s 4ms/step - loss: 1.9786 - accuracy: 0.3108 - val_loss: 2.0245 - val_accuracy: 0.2800\n",
      "Epoch 29/30\n",
      "38/38 [==============================] - 0s 3ms/step - loss: 1.9625 - accuracy: 0.3350 - val_loss: 2.0131 - val_accuracy: 0.2900\n",
      "Epoch 30/30\n",
      "38/38 [==============================] - 0s 3ms/step - loss: 1.9480 - accuracy: 0.3492 - val_loss: 2.0017 - val_accuracy: 0.2967\n"
     ]
    },
    {
     "data": {
      "text/plain": [
       "<keras.src.callbacks.History at 0x7fe5002e3cd0>"
      ]
     },
     "execution_count": 12,
     "metadata": {},
     "output_type": "execute_result"
    }
   ],
   "source": [
    "scale_X=.2\n",
    "shift_X =.5\n",
    "!rm -rf log\n",
    "tb_callback = keras.callbacks.TensorBoard(log_dir='./log/winit', histogram_freq=1,  write_grads=True, write_graph=True, write_images=True)\n",
    "model.fit((X_train-shift_X)*scale_X, y_train_oh, epochs=30, batch_size=32,\n",
    "          validation_data=((X_test-shift_X)*scale_X, y_test_oh), \n",
    "         )#callbacks=[tb_callback])\n",
    "\n",
    "\n"
   ]
  },
  {
   "cell_type": "markdown",
   "metadata": {},
   "source": [
    "# Effects of different initializations\n",
    "\n",
    "understand carefully the following function\n",
    "\n",
    "check the notebook on **Inspecting model internals** to understand `get_tensors_and_functions` and the objects it returns"
   ]
  },
  {
   "cell_type": "code",
   "execution_count": 13,
   "metadata": {},
   "outputs": [],
   "source": [
    "def train_experiment(model, sigma, X_train, X_test):\n",
    "    model = get_model(layer_sizes=[20,15,15], activation=\"sigmoid\", sigma=sigma)\n",
    "    T_input, T_outputs, T_weights, F_outputs, F_gradients = get_gradients_functions(model)\n",
    "\n",
    "    w0_before = model.get_weights()[0].reshape(-1)\n",
    "    o0_before = F_outputs[0]([X_train])[0].reshape(-1)\n",
    "    g0_before = F_gradients[0](X_train, y_train_oh).reshape(-1)\n",
    "    \n",
    "    model.fit(X_train, y_train_oh, epochs=30, batch_size=32, \n",
    "              validation_data=(X_test, y_test_oh), verbose=0)\n",
    "\n",
    "    w0_after = model.get_weights()[0].reshape(-1)\n",
    "    o0_after = F_outputs[0]([X_train])[0].reshape(-1)\n",
    "    g0_after = F_gradients[0](X_train, y_train_oh).reshape(-1)\n",
    "\n",
    "    acc, val_acc = model.history.history[\"accuracy\"], model.history.history[\"val_accuracy\"]\n",
    "\n",
    "    plt.figure(figsize=(20,3))\n",
    "    plt.subplot(141)\n",
    "    plt.plot(acc, label=\"train_acc\")\n",
    "    plt.plot(val_acc, label=\"test_acc\")\n",
    "    plt.legend();\n",
    "    plt.grid()\n",
    "    plt.title(\"sigma=%.2f\"%(sigma))\n",
    "    plt.xlabel(\"epoch\")\n",
    "    plt.subplot(142)\n",
    "    plt.hist(w0_after, bins=30, density=True, label=\"after\", alpha=.5);\n",
    "    plt.hist(w0_before, bins=30, density=True, label=\"before\", alpha=.5);\n",
    "    plt.legend();\n",
    "    plt.title(\"layer 0 weights\")\n",
    "\n",
    "    plt.subplot(143)\n",
    "    plt.hist(o0_after, bins=30, density=True, label=\"after\", alpha=.5);\n",
    "    plt.hist(o0_before, bins=30, density=True, label=\"before\", alpha=.5);\n",
    "    plt.legend();\n",
    "    plt.title(\"layer 0 outputs\")\n",
    "    \n",
    "    plt.subplot(144)\n",
    "\n",
    "    def get_percentile(k, perc=90):\n",
    "        p = np.percentile(np.abs(k), [perc])[0]\n",
    "        return k[(k>-p)&(k<p)]\n",
    "\n",
    "    plt.hist(get_percentile(g0_after), bins=30, density=True, label=\"after\", alpha=.5);    \n",
    "    plt.hist(get_percentile(g0_before), bins=30, density=True, label=\"before\", alpha=.5);\n",
    "    plt.legend();\n",
    "    plt.title(\"layer 0 gradients\")"
   ]
  },
  {
   "cell_type": "markdown",
   "metadata": {},
   "source": [
    "### initializing with a standard normal ($\\mu=0$ and $\\sigma=1$)\n",
    "\n",
    "histograms show weights, outputs and gradients before and after training\n",
    "\n",
    "in good configurations:\n",
    "- weights move during training\n",
    "- gradients are spread around zero before training\n",
    "- outputs before training are spread"
   ]
  },
  {
   "cell_type": "code",
   "execution_count": 14,
   "metadata": {},
   "outputs": [],
   "source": [
    "model = get_model(layer_sizes=[20,15,15], activation=\"sigmoid\", sigma=0.1)\n"
   ]
  },
  {
   "cell_type": "code",
   "execution_count": 15,
   "metadata": {},
   "outputs": [
    {
     "data": {
      "text/plain": [
       "<KerasTensor: shape=(None, 10) dtype=float64 (created by layer 'Layer_03_Output')>"
      ]
     },
     "execution_count": 15,
     "metadata": {},
     "output_type": "execute_result"
    }
   ],
   "source": [
    "model.outputs[0]"
   ]
  },
  {
   "cell_type": "code",
   "execution_count": 15,
   "metadata": {},
   "outputs": [
    {
     "ename": "AttributeError",
     "evalue": "'Sequential' object has no attribute 'loss_functions'",
     "output_type": "error",
     "traceback": [
      "\u001b[0;31m---------------------------------------------------------------------------\u001b[0m",
      "\u001b[0;31mAttributeError\u001b[0m                            Traceback (most recent call last)",
      "Cell \u001b[0;32mIn[15], line 1\u001b[0m\n\u001b[0;32m----> 1\u001b[0m train_experiment(model, sigma\u001b[38;5;241m=\u001b[39m\u001b[38;5;241m1\u001b[39m, X_train\u001b[38;5;241m=\u001b[39mX_train, X_test\u001b[38;5;241m=\u001b[39mX_test)\n",
      "Cell \u001b[0;32mIn[13], line 7\u001b[0m, in \u001b[0;36mtrain_experiment\u001b[0;34m(model, sigma, X_train, X_test)\u001b[0m\n\u001b[1;32m      5\u001b[0m w0_before \u001b[38;5;241m=\u001b[39m model\u001b[38;5;241m.\u001b[39mget_weights()[\u001b[38;5;241m0\u001b[39m]\u001b[38;5;241m.\u001b[39mreshape(\u001b[38;5;241m-\u001b[39m\u001b[38;5;241m1\u001b[39m)\n\u001b[1;32m      6\u001b[0m o0_before \u001b[38;5;241m=\u001b[39m F_outputs[\u001b[38;5;241m0\u001b[39m]([X_train])[\u001b[38;5;241m0\u001b[39m]\u001b[38;5;241m.\u001b[39mreshape(\u001b[38;5;241m-\u001b[39m\u001b[38;5;241m1\u001b[39m)\n\u001b[0;32m----> 7\u001b[0m g0_before \u001b[38;5;241m=\u001b[39m F_gradients[\u001b[38;5;241m0\u001b[39m](X_train, y_train_oh)\u001b[38;5;241m.\u001b[39mreshape(\u001b[38;5;241m-\u001b[39m\u001b[38;5;241m1\u001b[39m)\n\u001b[1;32m      9\u001b[0m model\u001b[38;5;241m.\u001b[39mfit(X_train, y_train_oh, epochs\u001b[38;5;241m=\u001b[39m\u001b[38;5;241m30\u001b[39m, batch_size\u001b[38;5;241m=\u001b[39m\u001b[38;5;241m32\u001b[39m, \n\u001b[1;32m     10\u001b[0m           validation_data\u001b[38;5;241m=\u001b[39m(X_test, y_test_oh), verbose\u001b[38;5;241m=\u001b[39m\u001b[38;5;241m0\u001b[39m)\n\u001b[1;32m     12\u001b[0m w0_after \u001b[38;5;241m=\u001b[39m model\u001b[38;5;241m.\u001b[39mget_weights()[\u001b[38;5;241m0\u001b[39m]\u001b[38;5;241m.\u001b[39mreshape(\u001b[38;5;241m-\u001b[39m\u001b[38;5;241m1\u001b[39m)\n",
      "Cell \u001b[0;32mIn[6], line 37\u001b[0m, in \u001b[0;36mget_gradients_functions.<locals>.get_gradients_functions.<locals>.f\u001b[0;34m(X, y, i)\u001b[0m\n\u001b[1;32m     35\u001b[0m v \u001b[38;5;241m=\u001b[39m model\u001b[38;5;241m.\u001b[39mtrainable_variables[i]\n\u001b[1;32m     36\u001b[0m \u001b[38;5;28;01mwith\u001b[39;00m tf\u001b[38;5;241m.\u001b[39mGradientTape(persistent\u001b[38;5;241m=\u001b[39m\u001b[38;5;28;01mTrue\u001b[39;00m) \u001b[38;5;28;01mas\u001b[39;00m t:\n\u001b[0;32m---> 37\u001b[0m     loss \u001b[38;5;241m=\u001b[39m model\u001b[38;5;241m.\u001b[39mloss_functions[\u001b[38;5;241m0\u001b[39m]( model(X), y)\n\u001b[1;32m     38\u001b[0m \u001b[38;5;28;01mreturn\u001b[39;00m t\u001b[38;5;241m.\u001b[39mgradient(loss,v)\u001b[38;5;241m.\u001b[39mnumpy()\n",
      "\u001b[0;31mAttributeError\u001b[0m: 'Sequential' object has no attribute 'loss_functions'"
     ]
    }
   ],
   "source": [
    "train_experiment(model, sigma=1, X_train=X_train, X_test=X_test)"
   ]
  },
  {
   "cell_type": "markdown",
   "metadata": {},
   "source": [
    "### initializing with a small $\\sigma$\n"
   ]
  },
  {
   "cell_type": "code",
   "execution_count": 17,
   "metadata": {},
   "outputs": [
    {
     "ename": "AttributeError",
     "evalue": "'Sequential' object has no attribute 'loss_functions'",
     "output_type": "error",
     "traceback": [
      "\u001b[0;31m---------------------------------------------------------------------------\u001b[0m",
      "\u001b[0;31mAttributeError\u001b[0m                            Traceback (most recent call last)",
      "Cell \u001b[0;32mIn[17], line 1\u001b[0m\n\u001b[0;32m----> 1\u001b[0m train_experiment(model, sigma\u001b[38;5;241m=\u001b[39m\u001b[38;5;241m.1\u001b[39m, X_train\u001b[38;5;241m=\u001b[39mX_train, X_test\u001b[38;5;241m=\u001b[39mX_test)\n",
      "Cell \u001b[0;32mIn[13], line 7\u001b[0m, in \u001b[0;36mtrain_experiment\u001b[0;34m(model, sigma, X_train, X_test)\u001b[0m\n\u001b[1;32m      5\u001b[0m w0_before \u001b[38;5;241m=\u001b[39m model\u001b[38;5;241m.\u001b[39mget_weights()[\u001b[38;5;241m0\u001b[39m]\u001b[38;5;241m.\u001b[39mreshape(\u001b[38;5;241m-\u001b[39m\u001b[38;5;241m1\u001b[39m)\n\u001b[1;32m      6\u001b[0m o0_before \u001b[38;5;241m=\u001b[39m F_outputs[\u001b[38;5;241m0\u001b[39m]([X_train])[\u001b[38;5;241m0\u001b[39m]\u001b[38;5;241m.\u001b[39mreshape(\u001b[38;5;241m-\u001b[39m\u001b[38;5;241m1\u001b[39m)\n\u001b[0;32m----> 7\u001b[0m g0_before \u001b[38;5;241m=\u001b[39m F_gradients[\u001b[38;5;241m0\u001b[39m](X_train, y_train_oh)\u001b[38;5;241m.\u001b[39mreshape(\u001b[38;5;241m-\u001b[39m\u001b[38;5;241m1\u001b[39m)\n\u001b[1;32m      9\u001b[0m model\u001b[38;5;241m.\u001b[39mfit(X_train, y_train_oh, epochs\u001b[38;5;241m=\u001b[39m\u001b[38;5;241m30\u001b[39m, batch_size\u001b[38;5;241m=\u001b[39m\u001b[38;5;241m32\u001b[39m, \n\u001b[1;32m     10\u001b[0m           validation_data\u001b[38;5;241m=\u001b[39m(X_test, y_test_oh), verbose\u001b[38;5;241m=\u001b[39m\u001b[38;5;241m0\u001b[39m)\n\u001b[1;32m     12\u001b[0m w0_after \u001b[38;5;241m=\u001b[39m model\u001b[38;5;241m.\u001b[39mget_weights()[\u001b[38;5;241m0\u001b[39m]\u001b[38;5;241m.\u001b[39mreshape(\u001b[38;5;241m-\u001b[39m\u001b[38;5;241m1\u001b[39m)\n",
      "Cell \u001b[0;32mIn[6], line 37\u001b[0m, in \u001b[0;36mget_gradients_functions.<locals>.get_gradients_functions.<locals>.f\u001b[0;34m(X, y, i)\u001b[0m\n\u001b[1;32m     35\u001b[0m v \u001b[38;5;241m=\u001b[39m model\u001b[38;5;241m.\u001b[39mtrainable_variables[i]\n\u001b[1;32m     36\u001b[0m \u001b[38;5;28;01mwith\u001b[39;00m tf\u001b[38;5;241m.\u001b[39mGradientTape(persistent\u001b[38;5;241m=\u001b[39m\u001b[38;5;28;01mTrue\u001b[39;00m) \u001b[38;5;28;01mas\u001b[39;00m t:\n\u001b[0;32m---> 37\u001b[0m     loss \u001b[38;5;241m=\u001b[39m model\u001b[38;5;241m.\u001b[39mloss_functions[\u001b[38;5;241m0\u001b[39m]( model(X), y)\n\u001b[1;32m     38\u001b[0m \u001b[38;5;28;01mreturn\u001b[39;00m t\u001b[38;5;241m.\u001b[39mgradient(loss,v)\u001b[38;5;241m.\u001b[39mnumpy()\n",
      "\u001b[0;31mAttributeError\u001b[0m: 'Sequential' object has no attribute 'loss_functions'"
     ]
    }
   ],
   "source": [
    "train_experiment(model, sigma=.1, X_train=X_train, X_test=X_test)"
   ]
  },
  {
   "cell_type": "markdown",
   "metadata": {},
   "source": [
    "### initializing with a large $\\sigma$\n",
    "\n",
    "observe how gradients are very concentrated arounz zero at the beginning of training"
   ]
  },
  {
   "cell_type": "code",
   "execution_count": null,
   "metadata": {},
   "outputs": [
    {
     "name": "stderr",
     "output_type": "stream",
     "text": [
      "W0220 17:53:34.143740 4512175552 base_layer.py:1790] Layer Layer_00_Input is casting an input tensor from dtype float64 to the layer's dtype of float32, which is new behavior in TensorFlow 2.  The layer has dtype float32 because it's dtype defaults to floatx.\n",
      "\n",
      "If you intended to run this layer in float32, you can safely ignore this warning. If in doubt, this warning is likely only an issue if you are porting a TensorFlow 1.X model to TensorFlow 2.\n",
      "\n",
      "To change all layers to have dtype float64 by default, call `tf.keras.backend.set_floatx('float64')`. To change just this layer, pass dtype='float64' to the layer constructor. If you are the author of this layer, you can disable autocasting by passing autocast=False to the base Layer constructor.\n",
      "\n"
     ]
    },
    {
     "data": {
      "image/png": "[encoded data removed]",
      "text/plain": [
       "<Figure size 1440x216 with 4 Axes>"
      ]
     },
     "metadata": {
      "needs_background": "light"
     },
     "output_type": "display_data"
    }
   ],
   "source": [
    "train_experiment(model, sigma=10, X_train=X_train, X_test=X_test)"
   ]
  },
  {
   "cell_type": "markdown",
   "metadata": {},
   "source": [
    "### initializing with a small $\\sigma$ but with large values for input data\n",
    "\n",
    "Recall that $XW+b$ is what enters the $sigmoid$ function. If large, it will be away from the linear regine around zero. It can be large because of $W$ (large initialization $\\sigma$), or because of $X$.\n"
   ]
  },
  {
   "cell_type": "code",
   "execution_count": null,
   "metadata": {},
   "outputs": [
    {
     "name": "stderr",
     "output_type": "stream",
     "text": [
      "W0220 17:51:39.917109 4736255424 base_layer.py:1790] Layer Layer_00_Input is casting an input tensor from dtype float64 to the layer's dtype of float32, which is new behavior in TensorFlow 2.  The layer has dtype float32 because it's dtype defaults to floatx.\n",
      "\n",
      "If you intended to run this layer in float32, you can safely ignore this warning. If in doubt, this warning is likely only an issue if you are porting a TensorFlow 1.X model to TensorFlow 2.\n",
      "\n",
      "To change all layers to have dtype float64 by default, call `tf.keras.backend.set_floatx('float64')`. To change just this layer, pass dtype='float64' to the layer constructor. If you are the author of this layer, you can disable autocasting by passing autocast=False to the base Layer constructor.\n",
      "\n"
     ]
    },
    {
     "data": {
      "image/png": "[encoded data removed]",
      "text/plain": [
       "<Figure size 1440x216 with 4 Axes>"
      ]
     },
     "metadata": {
      "needs_background": "light"
     },
     "output_type": "display_data"
    }
   ],
   "source": [
    "train_experiment(model, sigma=.1, X_train=X_train*100-50, X_test=X_test*100-50)"
   ]
  }
 ],
 "metadata": {
  "kernelspec": {
   "display_name": "Python 3",
   "language": "python",
   "name": "python3"
  },
  "language_info": {
   "codemirror_mode": {
    "name": "ipython",
    "version": 3
   },
   "file_extension": ".py",
   "mimetype": "text/x-python",
   "name": "python",
   "nbconvert_exporter": "python",
   "pygments_lexer": "ipython3",
   "version": "3.11.5"
  }
 },
 "nbformat": 4,
 "nbformat_minor": 2
}
