{
 "cells": [
  {
   "cell_type": "markdown",
   "metadata": {},
   "source": [
    "<a href=\"https://colab.research.google.com/github/acubillosunal/UBM-DEEP-LEARNING-1/blob/main/U2.12%20-%20Vanishing%20gradients.ipynb\" target=\"_parent\"><img src=\"https://colab.research.google.com/assets/colab-badge.svg\" alt=\"Open In Colab\"/></a>\n",
    "\n",
    "\n",
    "**Recuerda que una vez abierto, Da clic en \"Copiar en Drive\", de lo contrario no podras almancenar tu progreso**\n",
    "\n",
    "Nota: no olvide ir ejecutando las celdas de código de arriba hacia abajo para que no tenga errores de importación de librerías o por falta de definición de variables."
   ]
  },
  {
   "cell_type": "code",
   "execution_count": 22,
   "metadata": {
    "colab": {
     "base_uri": "https://localhost:8080/",
     "height": 34
    },
    "colab_type": "code",
    "id": "zZ-OGg2XUH9c",
    "outputId": "944bf74e-e51d-4070-b3aa-007d4344a35a"
   },
   "outputs": [],
   "source": [
    "!wget --no-cache -O init.py -q https://raw.githubusercontent.com/acubillosunal/UBM-DEEP-LEARNING-1/main/init.py\n",
    "import init; init.init(force_download=False); "
   ]
  },
  {
   "cell_type": "code",
   "execution_count": 23,
   "metadata": {
    "colab": {
     "base_uri": "https://localhost:8080/",
     "height": 68
    },
    "colab_type": "code",
    "id": "o3bDeERPUH9j",
    "outputId": "6d53e961-a2fe-40e8-c3e5-f334365554f5"
   },
   "outputs": [
    {
     "data": {
      "text/plain": [
       "'2.15.0'"
      ]
     },
     "execution_count": 23,
     "metadata": {},
     "output_type": "execute_result"
    }
   ],
   "source": [
    "import sys\n",
    "if 'google.colab' in sys.modules:\n",
    "    print (\"setting tensorflow version in colab\")\n",
    "    %tensorflow_version 2.x\n",
    "import tensorflow as tf\n",
    "tf.__version__"
   ]
  },
  {
   "cell_type": "markdown",
   "metadata": {},
   "source": [
    "## **Introducción**\n",
    "\n",
    "TensorBoard es una herramienta de visualización para comprender varias métricas de modelos de redes neuronales y el proceso de entrenamiento. Primero explicaremos qué es TensorBoard y cómo instalarlo. Luego, le mostraremos un ejemplo de cómo usar Tensorboard usando Keras y le mostraremos varias visualizaciones."
   ]
  },
  {
   "cell_type": "markdown",
   "metadata": {},
   "source": [
    "## **¿Qué es TensorBoard?**\n",
    "\n",
    "TensorBoard es una aplicación web de visualización para comprender mejor varios parámetros del modelo de red neuronal y sus métricas de entrenamiento. Estas visualizaciones son muy útiles cuando se realizan experimentos con modelos de redes neuronales y se desea vigilar de cerca las métricas relacionadas. Es de código abierto y forma parte del grupo Tensorflow.\n",
    "\n",
    "Algunas de las cosas útiles que puedes hacer con TensorBoard incluyen:\n",
    "\n",
    "* Visualiza métricas como precisión y pérdida.\n",
    "* Visualiza el gráfico del modelo.\n",
    "* Visualiza histogramas de pesos y sesgos para comprender cómo cambian durante el entrenamiento.\n",
    "* Visualiza datos como texto, imágenes y audio.\n",
    "* Visualiza incrustaciones en un espacio de dimensiones inferiores."
   ]
  },
  {
   "cell_type": "markdown",
   "metadata": {},
   "source": [
    "## **Tutorial de TensorBoard (Keras)**\n",
    "\n",
    "Aquí vamos a utilizar un pequeño proyecto para crear una red neuronal en Keras para el tutorial de Tensorboard. Para ello, utilizaremos el famoso conjunto de datos de reconocimiento de dígitos escritos a mano MNIST.\n",
    "\n",
    "Dado que este es un tutorial de TensorBoard, no explicaremos mucho sobre el preprocesamiento de datos y el proceso de construcción de redes neuronales. Para comprender más detalles sobre cómo trabajar con el conjunto de datos de dígitos escritos a mano de MNIST, puede consultar el siguiente tutorial"
   ]
  },
  {
   "cell_type": "markdown",
   "metadata": {},
   "source": [
    "## **i) Instalar TensorBoard**\n",
    "\n",
    "Puede instalar TensorBoard usando pip como se muestra a continuación"
   ]
  },
  {
   "cell_type": "code",
   "execution_count": 24,
   "metadata": {},
   "outputs": [
    {
     "name": "stdout",
     "output_type": "stream",
     "text": [
      "Requirement already satisfied: tensorboard in /home/proci/anaconda3/lib/python3.11/site-packages (2.15.2)\n",
      "Requirement already satisfied: absl-py>=0.4 in /home/proci/anaconda3/lib/python3.11/site-packages (from tensorboard) (2.1.0)\n",
      "Requirement already satisfied: grpcio>=1.48.2 in /home/proci/anaconda3/lib/python3.11/site-packages (from tensorboard) (1.59.0)\n",
      "Requirement already satisfied: google-auth<3,>=1.6.3 in /home/proci/anaconda3/lib/python3.11/site-packages (from tensorboard) (2.28.1)\n",
      "Requirement already satisfied: google-auth-oauthlib<2,>=0.5 in /home/proci/anaconda3/lib/python3.11/site-packages (from tensorboard) (1.2.0)\n",
      "Requirement already satisfied: markdown>=2.6.8 in /home/proci/anaconda3/lib/python3.11/site-packages (from tensorboard) (3.4.1)\n",
      "Requirement already satisfied: numpy>=1.12.0 in /home/proci/anaconda3/lib/python3.11/site-packages (from tensorboard) (1.24.3)\n",
      "Requirement already satisfied: protobuf!=4.24.0,>=3.19.6 in /home/proci/anaconda3/lib/python3.11/site-packages (from tensorboard) (4.24.4)\n",
      "Requirement already satisfied: requests<3,>=2.21.0 in /home/proci/anaconda3/lib/python3.11/site-packages (from tensorboard) (2.31.0)\n",
      "Requirement already satisfied: setuptools>=41.0.0 in /home/proci/anaconda3/lib/python3.11/site-packages (from tensorboard) (67.8.0)\n",
      "Requirement already satisfied: six>1.9 in /home/proci/anaconda3/lib/python3.11/site-packages (from tensorboard) (1.16.0)\n",
      "Requirement already satisfied: tensorboard-data-server<0.8.0,>=0.7.0 in /home/proci/anaconda3/lib/python3.11/site-packages (from tensorboard) (0.7.2)\n",
      "Requirement already satisfied: werkzeug>=1.0.1 in /home/proci/anaconda3/lib/python3.11/site-packages (from tensorboard) (2.2.3)\n",
      "Requirement already satisfied: cachetools<6.0,>=2.0.0 in /home/proci/anaconda3/lib/python3.11/site-packages (from google-auth<3,>=1.6.3->tensorboard) (5.3.3)\n",
      "Requirement already satisfied: pyasn1-modules>=0.2.1 in /home/proci/anaconda3/lib/python3.11/site-packages (from google-auth<3,>=1.6.3->tensorboard) (0.2.8)\n",
      "Requirement already satisfied: rsa<5,>=3.1.4 in /home/proci/anaconda3/lib/python3.11/site-packages (from google-auth<3,>=1.6.3->tensorboard) (4.9)\n",
      "Requirement already satisfied: requests-oauthlib>=0.7.0 in /home/proci/anaconda3/lib/python3.11/site-packages (from google-auth-oauthlib<2,>=0.5->tensorboard) (1.3.1)\n",
      "Requirement already satisfied: charset-normalizer<4,>=2 in /home/proci/anaconda3/lib/python3.11/site-packages (from requests<3,>=2.21.0->tensorboard) (2.0.4)\n",
      "Requirement already satisfied: idna<4,>=2.5 in /home/proci/anaconda3/lib/python3.11/site-packages (from requests<3,>=2.21.0->tensorboard) (3.4)\n",
      "Requirement already satisfied: urllib3<3,>=1.21.1 in /home/proci/anaconda3/lib/python3.11/site-packages (from requests<3,>=2.21.0->tensorboard) (1.26.18)\n",
      "Requirement already satisfied: certifi>=2017.4.17 in /home/proci/anaconda3/lib/python3.11/site-packages (from requests<3,>=2.21.0->tensorboard) (2024.2.2)\n",
      "Requirement already satisfied: MarkupSafe>=2.1.1 in /home/proci/anaconda3/lib/python3.11/site-packages (from werkzeug>=1.0.1->tensorboard) (2.1.1)\n",
      "Requirement already satisfied: pyasn1<0.5.0,>=0.4.6 in /home/proci/anaconda3/lib/python3.11/site-packages (from pyasn1-modules>=0.2.1->google-auth<3,>=1.6.3->tensorboard) (0.4.8)\n",
      "Requirement already satisfied: oauthlib>=3.0.0 in /home/proci/anaconda3/lib/python3.11/site-packages (from requests-oauthlib>=0.7.0->google-auth-oauthlib<2,>=0.5->tensorboard) (3.2.2)\n",
      "Note: you may need to restart the kernel to use updated packages.\n"
     ]
    }
   ],
   "source": [
    "pip install tensorboard"
   ]
  },
  {
   "cell_type": "markdown",
   "metadata": {},
   "source": [
    "ii) Iniciar TensorBoard\n",
    "Lo primero que debemos hacer es iniciar el servicio TensorBoard. Para hacer esto, debe ejecutar a continuación en el símbolo del sistema. El parámetro –logdir indica el directorio donde se guardarán los datos para visualizar TensorBoard. Aquí le hemos dado el nombre del directorio como \"registros\"."
   ]
  },
  {
   "cell_type": "markdown",
   "metadata": {},
   "source": [
    "Esto iniciará el servicio TensorBoard en el puerto predeterminado 6066 como se muestra a continuación. Se puede acceder al panel de TesnorBoard como http://localhost:6006/"
   ]
  },
  {
   "cell_type": "markdown",
   "metadata": {},
   "source": [
    "## **iii) Cargando bibliotecas**\n",
    "\n",
    "Importaremos rápidamente las bibliotecas necesarias para nuestro ejemplo. (Tenga en cuenta que estas bibliotecas no tienen nada que ver con TensorBoard, pero son necesarias para construir la red neuronal de nuestro ejemplo)."
   ]
  },
  {
   "cell_type": "code",
   "execution_count": 25,
   "metadata": {},
   "outputs": [],
   "source": [
    "import tensorflow as tf\n",
    "from tensorflow import keras\n",
    "import matplotlib.pyplot as plt\n",
    "%matplotlib inline\n",
    "import numpy as np"
   ]
  },
  {
   "cell_type": "markdown",
   "metadata": {},
   "source": [
    "## **iv) Carga del conjunto de datos MNIST**\n",
    "\n",
    "Ahora cargaremos el conjunto de datos MNIST que viene como parte del paquete Keras. También visualicemos rápidamente datos de una muestra después de cargar el conjunto de datos."
   ]
  },
  {
   "cell_type": "code",
   "execution_count": 26,
   "metadata": {},
   "outputs": [
    {
     "data": {
      "image/png": "[encoded data removed]",
      "text/plain": [
       "<Figure size 480x480 with 1 Axes>"
      ]
     },
     "metadata": {},
     "output_type": "display_data"
    }
   ],
   "source": [
    "(X_train, y_train) , (X_test, y_test) = keras.datasets.mnist.load_data()\n",
    "plt.matshow(X_train[np.random.randint(0, X_train.shape[0])]);"
   ]
  },
  {
   "cell_type": "markdown",
   "metadata": {},
   "source": [
    "## **v) Preprocesamiento**\n",
    "\n",
    "Ahora preprocesaremos los datos normalizándolos entre 0 y 1 y luego aplanándolos."
   ]
  },
  {
   "cell_type": "code",
   "execution_count": 27,
   "metadata": {},
   "outputs": [],
   "source": [
    "X_train = X_train / 255 \n",
    "X_test = X_test / 255\n",
    "\n",
    "X_train_flattened = X_train.reshape(len(X_train), 28*28) \n",
    "X_test_flattened = X_test.reshape(len(X_test), 28*28)"
   ]
  },
  {
   "cell_type": "markdown",
   "metadata": {},
   "source": [
    "## **xi) Crear y compilar el modelo**\n",
    "\n",
    "Ahora creamos y compilamos un modelo de red neuronal simple que consta de solo una capa de entrada, una capa oculta de 100 neuronas y una capa de salida. Todas las demás configuraciones son estándar."
   ]
  },
  {
   "cell_type": "code",
   "execution_count": 28,
   "metadata": {},
   "outputs": [],
   "source": [
    "model = keras.Sequential([\n",
    "    keras.layers.Flatten(input_shape=(28, 28)),\n",
    "    keras.layers.Dense(100, activation='relu'),\n",
    "    keras.layers.Dense(10, activation='sigmoid')\n",
    "])\n",
    "\n",
    "model.compile(optimizer='adam',\n",
    "              loss='sparse_categorical_crossentropy',\n",
    "              metrics=['accuracy'])"
   ]
  },
  {
   "cell_type": "markdown",
   "metadata": {},
   "source": [
    "## **vii) Crear objeto de devolución de llamada**\n",
    "\n",
    "\n",
    "Aquí es donde debemos llamar nuestra atención mientras trabajamos con TensorBoard. Tenemos que crear un objeto de devolución de llamada de Keras para TensorBoard que ayudará a escribir registros para TensorBoard durante el proceso de capacitación.\n",
    "\n",
    "Tenga en cuenta que la ruta principal para log_dir a continuación debe ser la misma que el valor de logdir que proporcionamos al iniciar el servicio TensorBoard en el segundo paso."
   ]
  },
  {
   "cell_type": "code",
   "execution_count": 34,
   "metadata": {},
   "outputs": [],
   "source": [
    "!rm -rf logs # Borrar la carpeta de logs"
   ]
  },
  {
   "cell_type": "code",
   "execution_count": 29,
   "metadata": {},
   "outputs": [],
   "source": [
    "tb_callback = tf.keras.callbacks.TensorBoard(log_dir=\"logs/\", histogram_freq=1)"
   ]
  },
  {
   "cell_type": "markdown",
   "metadata": {},
   "source": [
    "## **viii) Modelo de formación**\n",
    "\n",
    "Finalmente, comenzamos el entrenamiento del modelo usando la función fit(). Lo entrenamos durante 5 épocas y notamos que también pasamos el objeto de devolución de llamada que creamos en el paso anterior."
   ]
  },
  {
   "cell_type": "code",
   "execution_count": 21,
   "metadata": {},
   "outputs": [
    {
     "name": "stdout",
     "output_type": "stream",
     "text": [
      "Epoch 1/5\n"
     ]
    },
    {
     "name": "stderr",
     "output_type": "stream",
     "text": [
      "2024-03-22 11:17:08.983471: W external/local_tsl/tsl/framework/cpu_allocator_impl.cc:83] Allocation of 188160000 exceeds 10% of free system memory.\n"
     ]
    },
    {
     "name": "stdout",
     "output_type": "stream",
     "text": [
      "1875/1875 [==============================] - 6s 3ms/step - loss: 0.2737 - accuracy: 0.9215\n",
      "Epoch 2/5\n",
      "1875/1875 [==============================] - 5s 3ms/step - loss: 0.1253 - accuracy: 0.9632\n",
      "Epoch 3/5\n",
      "1875/1875 [==============================] - 5s 3ms/step - loss: 0.0890 - accuracy: 0.9730\n",
      "Epoch 4/5\n",
      "1875/1875 [==============================] - 5s 3ms/step - loss: 0.0680 - accuracy: 0.9797\n",
      "Epoch 5/5\n",
      "1875/1875 [==============================] - 5s 3ms/step - loss: 0.0533 - accuracy: 0.9837\n"
     ]
    },
    {
     "data": {
      "text/plain": [
       "<keras.src.callbacks.History at 0x7f6275d5b490>"
      ]
     },
     "execution_count": 21,
     "metadata": {},
     "output_type": "execute_result"
    }
   ],
   "source": [
    "model.fit(X_train, y_train, epochs=5,callbacks=[tb_callback])\n"
   ]
  },
  {
   "cell_type": "markdown",
   "metadata": {},
   "source": [
    "## **ix) Modelo de visualización en Tensorboard**\n",
    "\n",
    "Ahora podemos ir al panel de TensorBoard que iniciamos en el primer paso y ver todas las visualizaciones que tiene para ofrecer. Las visualizaciones dependen principalmente de los datos que haya registrado para TensorBoard. Dependiendo de los datos registrados, los complementos correspondientes de TensorBoard se activan y puede verlos seleccionando el menú desplegable \"Inactivo\" en la esquina superior derecha del panel.\n",
    "\n",
    "Veamos las visualizaciones disponibles en nuestro ejemplo.\n",
    "\n",
    "Escalares\n",
    "Muestra visualizaciones de precisión y pérdida en cada época durante el proceso de entrenamiento. Y cuando pasa el cursor sobre el gráfico, muestra más información como valor, paso y tiempo."
   ]
  },
  {
   "cell_type": "code",
   "execution_count": 30,
   "metadata": {},
   "outputs": [
    {
     "name": "stderr",
     "output_type": "stream",
     "text": [
      "UsageError: Line magic function `%tensorboard` not found.\n"
     ]
    }
   ],
   "source": [
    "%tensorboard --logdir logs"
   ]
  },
  {
   "cell_type": "markdown",
   "metadata": {},
   "source": [
    "## **x) Comparación de diferentes modelos en TensorBoard**\n",
    "\n",
    "Crear una buena red neuronal no es un trabajo sencillo y requiere varias ejecuciones para experimentar con varios parámetros. Con TensorBoard, puede visualizar el rendimiento de todas las ejecuciones del modelo en el panel y compararlos fácilmente.\n",
    "\n",
    "Para ello crearemos los registros de entrenamiento en diferentes subcarpetas dentro de la carpeta principal. El siguiente ejemplo le ayudará a comprender mejor.\n",
    "\n",
    "En la primera ejecución, creamos el objeto de devolución de llamada de Keras de TensorBoard cuyos registros se guardarán en la carpeta 'run1' dentro de la carpeta de registros principal."
   ]
  },
  {
   "cell_type": "code",
   "execution_count": 31,
   "metadata": {},
   "outputs": [
    {
     "name": "stdout",
     "output_type": "stream",
     "text": [
      "Epoch 1/5\n"
     ]
    },
    {
     "name": "stderr",
     "output_type": "stream",
     "text": [
      "2024-03-22 11:18:02.876381: W external/local_tsl/tsl/framework/cpu_allocator_impl.cc:83] Allocation of 188160000 exceeds 10% of free system memory.\n"
     ]
    },
    {
     "name": "stdout",
     "output_type": "stream",
     "text": [
      "1875/1875 [==============================] - 6s 3ms/step - loss: 0.2749 - accuracy: 0.9228\n",
      "Epoch 2/5\n",
      "1875/1875 [==============================] - 5s 3ms/step - loss: 0.1221 - accuracy: 0.9640\n",
      "Epoch 3/5\n",
      "1875/1875 [==============================] - 5s 3ms/step - loss: 0.0838 - accuracy: 0.9754\n",
      "Epoch 4/5\n",
      "1875/1875 [==============================] - 5s 3ms/step - loss: 0.0635 - accuracy: 0.9808\n",
      "Epoch 5/5\n",
      "1875/1875 [==============================] - 5s 3ms/step - loss: 0.0510 - accuracy: 0.9843\n"
     ]
    },
    {
     "data": {
      "text/plain": [
       "<keras.src.callbacks.History at 0x7f626f8a42d0>"
      ]
     },
     "execution_count": 31,
     "metadata": {},
     "output_type": "execute_result"
    }
   ],
   "source": [
    "tb_callback = tf.keras.callbacks.TensorBoard(log_dir=\"logs/run1\", histogram_freq=1)\n",
    "model.fit(X_train, y_train, epochs=5, callbacks=[tb_callback])"
   ]
  },
  {
   "cell_type": "code",
   "execution_count": 32,
   "metadata": {},
   "outputs": [
    {
     "name": "stdout",
     "output_type": "stream",
     "text": [
      "Epoch 1/5\n",
      "  34/1875 [..............................] - ETA: 5s - loss: 0.0320 - accuracy: 0.9899"
     ]
    },
    {
     "name": "stderr",
     "output_type": "stream",
     "text": [
      "2024-03-22 11:18:29.907852: W external/local_tsl/tsl/framework/cpu_allocator_impl.cc:83] Allocation of 188160000 exceeds 10% of free system memory.\n"
     ]
    },
    {
     "name": "stdout",
     "output_type": "stream",
     "text": [
      "1875/1875 [==============================] - 5s 3ms/step - loss: 0.0405 - accuracy: 0.9871\n",
      "Epoch 2/5\n",
      "1875/1875 [==============================] - 5s 3ms/step - loss: 0.0334 - accuracy: 0.9899\n",
      "Epoch 3/5\n",
      "1875/1875 [==============================] - 5s 3ms/step - loss: 0.0264 - accuracy: 0.9920\n",
      "Epoch 4/5\n",
      "1875/1875 [==============================] - 5s 3ms/step - loss: 0.0227 - accuracy: 0.9929\n",
      "Epoch 5/5\n",
      "1875/1875 [==============================] - 5s 3ms/step - loss: 0.0198 - accuracy: 0.9937\n"
     ]
    },
    {
     "data": {
      "text/plain": [
       "<keras.src.callbacks.History at 0x7f62729ffa50>"
      ]
     },
     "execution_count": 32,
     "metadata": {},
     "output_type": "execute_result"
    }
   ],
   "source": [
    "tb_callback = tf.keras.callbacks.TensorBoard(log_dir=\"logs/run2\", histogram_freq=1)\n",
    "model.fit(X_train, y_train, epochs=5, callbacks=[tb_callback])"
   ]
  }
 ],
 "metadata": {
  "colab": {
   "collapsed_sections": [],
   "name": "U2.07 - Vanishing gradients.ipynb",
   "provenance": []
  },
  "kernelspec": {
   "display_name": "Python 3",
   "language": "python",
   "name": "python3"
  },
  "language_info": {
   "codemirror_mode": {
    "name": "ipython",
    "version": 3
   },
   "file_extension": ".py",
   "mimetype": "text/x-python",
   "name": "python",
   "nbconvert_exporter": "python",
   "pygments_lexer": "ipython3",
   "version": "3.11.5"
  }
 },
 "nbformat": 4,
 "nbformat_minor": 1
}
